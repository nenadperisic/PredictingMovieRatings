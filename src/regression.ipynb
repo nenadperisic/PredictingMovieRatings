{
 "cells": [
  {
   "cell_type": "code",
   "execution_count": 1,
   "source": [
    "import pandas as pd\n",
    "import numpy as np\n",
    "import xgboost as xgb\n",
    "import matplotlib.pyplot as plt\n",
    "from sklearn.model_selection import train_test_split\n",
    "from sklearn.metrics import mean_squared_error\n",
    "from sklearn.metrics import mean_absolute_error\n",
    "from sklearn.metrics import mean_absolute_percentage_error\n",
    "from sklearn.linear_model import LinearRegression\n",
    "from sklearn.model_selection import GridSearchCV\n",
    "from sklearn.linear_model import Ridge\n",
    "from sklearn.linear_model import Lasso\n",
    "from sklearn.ensemble import RandomForestRegressor"
   ],
   "outputs": [],
   "metadata": {}
  },
  {
   "cell_type": "markdown",
   "source": [
    "# Linear regression"
   ],
   "metadata": {}
  },
  {
   "cell_type": "code",
   "execution_count": 3,
   "source": [
    "train_data = pd.read_csv('../data/train_final.csv')\n",
    "train_data = train_data.drop(columns = ['Genre', 'actors', 'director', 'companies', 'overview'])\n",
    "X_train = train_data.drop(columns=['IMDB Score'])\n",
    "print(np.cov(train_data['IMDB Score']))"
   ],
   "outputs": [
    {
     "output_type": "stream",
     "name": "stdout",
     "text": [
      "1.3749116441929752\n"
     ]
    }
   ],
   "metadata": {}
  },
  {
   "cell_type": "code",
   "execution_count": 4,
   "source": [
    "# valid_data = pd.read_csv('../data/valid_final.csv')\n",
    "# valid_data = valid_data.drop(columns = ['Genre', 'actors', 'director', 'companies', 'overview'])\n",
    "# valid_X = valid_data.drop(columns=['IMDB Score'])\n",
    "# print(np.cov(valid_data['IMDB Score']))"
   ],
   "outputs": [
    {
     "output_type": "stream",
     "name": "stdout",
     "text": [
      "1.3261752115079182\n"
     ]
    }
   ],
   "metadata": {}
  },
  {
   "cell_type": "code",
   "execution_count": 4,
   "source": [
    "test_data = pd.read_csv('../data/test_final.csv')\n",
    "test_data = test_data.drop(columns = ['Genre', 'actors', 'director', 'companies', 'overview'])\n",
    "X_test = test_data.drop(columns=['IMDB Score'])\n",
    "print(np.cov(test_data['IMDB Score']))"
   ],
   "outputs": [
    {
     "output_type": "stream",
     "name": "stdout",
     "text": [
      "1.3698599720979419\n"
     ]
    }
   ],
   "metadata": {}
  },
  {
   "cell_type": "code",
   "execution_count": 5,
   "source": [
    "X_train.head()"
   ],
   "outputs": [
    {
     "output_type": "execute_result",
     "data": {
      "text/plain": [
       "   runtime    budget  horror  comedy  family  fantasy  adventure  drama  \\\n",
       "0     52.0         0     1.0     0.0     0.0      0.0        0.0    0.0   \n",
       "1    100.0         0     0.0     1.0     1.0      1.0        0.0    0.0   \n",
       "2    125.0  15000000     0.0     0.0     0.0      0.0        1.0    1.0   \n",
       "3     91.0         0     0.0     1.0     0.0      0.0        0.0    0.0   \n",
       "4     83.0         0     0.0     0.0     0.0      0.0        0.0    1.0   \n",
       "\n",
       "   history  romance  ...  Gary  possibly  guilt  minister  Lou  niece  \\\n",
       "0      0.0      0.0  ...   0.0       0.0    0.0       0.0  0.0    0.0   \n",
       "1      0.0      0.0  ...   0.0       0.0    0.0       0.0  0.0    0.0   \n",
       "2      1.0      0.0  ...   0.0       0.0    0.0       0.0  0.0    0.0   \n",
       "3      0.0      0.0  ...   0.0       0.0    0.0       0.0  0.0    0.0   \n",
       "4      0.0      0.0  ...   0.0       0.0    0.0       0.0  0.0    0.0   \n",
       "\n",
       "   respect  Western  spree  creator  \n",
       "0      0.0      0.0    0.0      0.0  \n",
       "1      0.0      0.0    0.0      0.0  \n",
       "2      0.0      0.0    0.0      0.0  \n",
       "3      0.0      0.0    0.0      0.0  \n",
       "4      0.0      0.0    0.0      0.0  \n",
       "\n",
       "[5 rows x 4993 columns]"
      ],
      "text/html": [
       "<div>\n",
       "<style scoped>\n",
       "    .dataframe tbody tr th:only-of-type {\n",
       "        vertical-align: middle;\n",
       "    }\n",
       "\n",
       "    .dataframe tbody tr th {\n",
       "        vertical-align: top;\n",
       "    }\n",
       "\n",
       "    .dataframe thead th {\n",
       "        text-align: right;\n",
       "    }\n",
       "</style>\n",
       "<table border=\"1\" class=\"dataframe\">\n",
       "  <thead>\n",
       "    <tr style=\"text-align: right;\">\n",
       "      <th></th>\n",
       "      <th>runtime</th>\n",
       "      <th>budget</th>\n",
       "      <th>horror</th>\n",
       "      <th>comedy</th>\n",
       "      <th>family</th>\n",
       "      <th>fantasy</th>\n",
       "      <th>adventure</th>\n",
       "      <th>drama</th>\n",
       "      <th>history</th>\n",
       "      <th>romance</th>\n",
       "      <th>...</th>\n",
       "      <th>Gary</th>\n",
       "      <th>possibly</th>\n",
       "      <th>guilt</th>\n",
       "      <th>minister</th>\n",
       "      <th>Lou</th>\n",
       "      <th>niece</th>\n",
       "      <th>respect</th>\n",
       "      <th>Western</th>\n",
       "      <th>spree</th>\n",
       "      <th>creator</th>\n",
       "    </tr>\n",
       "  </thead>\n",
       "  <tbody>\n",
       "    <tr>\n",
       "      <th>0</th>\n",
       "      <td>52.0</td>\n",
       "      <td>0</td>\n",
       "      <td>1.0</td>\n",
       "      <td>0.0</td>\n",
       "      <td>0.0</td>\n",
       "      <td>0.0</td>\n",
       "      <td>0.0</td>\n",
       "      <td>0.0</td>\n",
       "      <td>0.0</td>\n",
       "      <td>0.0</td>\n",
       "      <td>...</td>\n",
       "      <td>0.0</td>\n",
       "      <td>0.0</td>\n",
       "      <td>0.0</td>\n",
       "      <td>0.0</td>\n",
       "      <td>0.0</td>\n",
       "      <td>0.0</td>\n",
       "      <td>0.0</td>\n",
       "      <td>0.0</td>\n",
       "      <td>0.0</td>\n",
       "      <td>0.0</td>\n",
       "    </tr>\n",
       "    <tr>\n",
       "      <th>1</th>\n",
       "      <td>100.0</td>\n",
       "      <td>0</td>\n",
       "      <td>0.0</td>\n",
       "      <td>1.0</td>\n",
       "      <td>1.0</td>\n",
       "      <td>1.0</td>\n",
       "      <td>0.0</td>\n",
       "      <td>0.0</td>\n",
       "      <td>0.0</td>\n",
       "      <td>0.0</td>\n",
       "      <td>...</td>\n",
       "      <td>0.0</td>\n",
       "      <td>0.0</td>\n",
       "      <td>0.0</td>\n",
       "      <td>0.0</td>\n",
       "      <td>0.0</td>\n",
       "      <td>0.0</td>\n",
       "      <td>0.0</td>\n",
       "      <td>0.0</td>\n",
       "      <td>0.0</td>\n",
       "      <td>0.0</td>\n",
       "    </tr>\n",
       "    <tr>\n",
       "      <th>2</th>\n",
       "      <td>125.0</td>\n",
       "      <td>15000000</td>\n",
       "      <td>0.0</td>\n",
       "      <td>0.0</td>\n",
       "      <td>0.0</td>\n",
       "      <td>0.0</td>\n",
       "      <td>1.0</td>\n",
       "      <td>1.0</td>\n",
       "      <td>1.0</td>\n",
       "      <td>0.0</td>\n",
       "      <td>...</td>\n",
       "      <td>0.0</td>\n",
       "      <td>0.0</td>\n",
       "      <td>0.0</td>\n",
       "      <td>0.0</td>\n",
       "      <td>0.0</td>\n",
       "      <td>0.0</td>\n",
       "      <td>0.0</td>\n",
       "      <td>0.0</td>\n",
       "      <td>0.0</td>\n",
       "      <td>0.0</td>\n",
       "    </tr>\n",
       "    <tr>\n",
       "      <th>3</th>\n",
       "      <td>91.0</td>\n",
       "      <td>0</td>\n",
       "      <td>0.0</td>\n",
       "      <td>1.0</td>\n",
       "      <td>0.0</td>\n",
       "      <td>0.0</td>\n",
       "      <td>0.0</td>\n",
       "      <td>0.0</td>\n",
       "      <td>0.0</td>\n",
       "      <td>0.0</td>\n",
       "      <td>...</td>\n",
       "      <td>0.0</td>\n",
       "      <td>0.0</td>\n",
       "      <td>0.0</td>\n",
       "      <td>0.0</td>\n",
       "      <td>0.0</td>\n",
       "      <td>0.0</td>\n",
       "      <td>0.0</td>\n",
       "      <td>0.0</td>\n",
       "      <td>0.0</td>\n",
       "      <td>0.0</td>\n",
       "    </tr>\n",
       "    <tr>\n",
       "      <th>4</th>\n",
       "      <td>83.0</td>\n",
       "      <td>0</td>\n",
       "      <td>0.0</td>\n",
       "      <td>0.0</td>\n",
       "      <td>0.0</td>\n",
       "      <td>0.0</td>\n",
       "      <td>0.0</td>\n",
       "      <td>1.0</td>\n",
       "      <td>0.0</td>\n",
       "      <td>0.0</td>\n",
       "      <td>...</td>\n",
       "      <td>0.0</td>\n",
       "      <td>0.0</td>\n",
       "      <td>0.0</td>\n",
       "      <td>0.0</td>\n",
       "      <td>0.0</td>\n",
       "      <td>0.0</td>\n",
       "      <td>0.0</td>\n",
       "      <td>0.0</td>\n",
       "      <td>0.0</td>\n",
       "      <td>0.0</td>\n",
       "    </tr>\n",
       "  </tbody>\n",
       "</table>\n",
       "<p>5 rows × 4993 columns</p>\n",
       "</div>"
      ]
     },
     "metadata": {},
     "execution_count": 5
    }
   ],
   "metadata": {}
  },
  {
   "cell_type": "code",
   "execution_count": 6,
   "source": [
    "linearRegression = LinearRegression().fit(X_train, train_data['IMDB Score'])"
   ],
   "outputs": [],
   "metadata": {}
  },
  {
   "cell_type": "code",
   "execution_count": 14,
   "source": [
    "print('train R^2: ', linearRegression.score(X_train, train_data['IMDB Score']))\n",
    "print('test R^2: ', linearRegression.score(X_test, test_data['IMDB Score']))\n",
    "\n",
    "print('train MAE: ', mean_absolute_error(linearRegression.predict(X_train), train_data['IMDB Score']))\n",
    "print('train MAE: ', mean_absolute_error(linearRegression.predict(X_test), test_data['IMDB Score']))\n",
    "\n",
    "print('train MSE: ', mean_squared_error(linearRegression.predict(X_train), train_data['IMDB Score']))\n",
    "print('test MSE: ', mean_squared_error(linearRegression.predict(X_test), test_data['IMDB Score']))"
   ],
   "outputs": [
    {
     "output_type": "stream",
     "name": "stdout",
     "text": [
      "train R^2:  0.5469532634174328\n",
      "test R^2:  0.3615194589066031\n",
      "train MAE:  0.6031675024259086\n",
      "train MAE:  0.7248295216204385\n",
      "train MSE:  0.6228400675303715\n",
      "test MSE:  0.874435134094227\n"
     ]
    }
   ],
   "metadata": {}
  },
  {
   "cell_type": "code",
   "execution_count": 8,
   "source": [
    "parameters = {'fit_intercept':[True,False], 'normalize':[True,False]}\n",
    "linearModel = GridSearchCV(estimator=LinearRegression(), param_grid=parameters, scoring='r2', cv=5).fit(X_train, train_data['IMDB Score'])"
   ],
   "outputs": [],
   "metadata": {}
  },
  {
   "cell_type": "code",
   "execution_count": 12,
   "source": [
    "print(\"best estimator: \", linearModel.best_estimator_)\n",
    "print(\"best params: \", linearModel.best_params_)\n",
    "print(\"best score: \", linearModel.best_score_)"
   ],
   "outputs": [
    {
     "output_type": "stream",
     "name": "stdout",
     "text": [
      "best estimator:  LinearRegression()\n",
      "best params:  {'fit_intercept': True, 'normalize': False}\n",
      "best score:  0.29958765272908744\n"
     ]
    }
   ],
   "metadata": {}
  },
  {
   "cell_type": "code",
   "execution_count": 25,
   "source": [
    "linearRegressionGrid = LinearRegression(fit_intercept= True, normalize=False).fit(X_train, train_data['IMDB Score'])\n",
    "print('train R^2: ', linearRegressionGrid.score(X_train, train_data['IMDB Score']))\n",
    "print('test R^2: ', linearRegressionGrid.score(X_test, test_data['IMDB Score']))\n",
    "\n",
    "print('train MAE: ', mean_absolute_error(linearRegressionGrid.predict(X_train), train_data['IMDB Score']))\n",
    "print('test MAE: ', mean_absolute_error(linearRegressionGrid.predict(X_test), test_data['IMDB Score']))\n",
    "\n",
    "print('train MSE: ', mean_squared_error(linearRegressionGrid.predict(X_train), train_data['IMDB Score']))\n",
    "print('test MSE: ', mean_squared_error(linearRegressionGrid.predict(X_test), test_data['IMDB Score']))"
   ],
   "outputs": [
    {
     "output_type": "stream",
     "name": "stdout",
     "text": [
      "train R^2:  0.5469532634174328\n",
      "test R^2:  0.3615194589066031\n",
      "train MAE:  0.6031675024259086\n",
      "test MAE:  0.7248295216204385\n",
      "train MSE:  0.6228400675303715\n",
      "test MSE:  0.874435134094227\n"
     ]
    }
   ],
   "metadata": {}
  },
  {
   "cell_type": "markdown",
   "source": [
    "# Ridge regression"
   ],
   "metadata": {}
  },
  {
   "cell_type": "code",
   "execution_count": 19,
   "source": [
    "ridgeRegression = Ridge(alpha=10, normalize=True, random_state=0).fit(X_train, train_data['IMDB Score'])\n",
    "\n",
    "print('Train R^2: ', ridgeRegression.score(X_train, train_data['IMDB Score']))\n",
    "print('Test R^2: ', ridgeRegression.score(X_test, test_data['IMDB Score']))\n",
    "\n",
    "print('Train MAE: ', mean_absolute_error(ridgeRegression.predict(X_train), train_data['IMDB Score']))\n",
    "print('Test MAE: ', mean_absolute_error(ridgeRegression.predict(X_test), test_data['IMDB Score']))\n",
    "\n",
    "print('Train MSE: ', mean_squared_error(ridgeRegression.predict(X_train), train_data['IMDB Score']))\n",
    "print('Test MSE: ', mean_squared_error(ridgeRegression.predict(X_test), test_data['IMDB Score']))"
   ],
   "outputs": [
    {
     "output_type": "stream",
     "name": "stdout",
     "text": [
      "Train R^2:  0.14921849413953459\n",
      "Test R^2:  0.12596594545080564\n",
      "Train MAE:  0.8430023954492178\n",
      "Test MAE:  0.8545487903574828\n",
      "Train MSE:  1.169638290656023\n",
      "Test MSE:  1.197038964388495\n"
     ]
    }
   ],
   "metadata": {}
  },
  {
   "cell_type": "code",
   "execution_count": null,
   "source": [
    "parameters = {'alpha':[1,5,10,30], 'fit_intercept':[True,False], 'normalize':[True]}\n",
    "ridgeModel = GridSearchCV(estimator=Ridge(), param_grid=parameters, scoring='r2', cv=5, error_score='raise').fit(X_train, train_data['IMDB Score'])"
   ],
   "outputs": [],
   "metadata": {}
  },
  {
   "cell_type": "code",
   "execution_count": 23,
   "source": [
    "print(ridgeModel.best_estimator_)\n",
    "print(ridgeModel.best_params_)\n",
    "print(ridgeModel.best_score_)"
   ],
   "outputs": [
    {
     "output_type": "stream",
     "name": "stdout",
     "text": [
      "Ridge(alpha=1, normalize=True)\n",
      "{'alpha': 1, 'fit_intercept': True, 'normalize': True}\n",
      "0.35859458007599365\n"
     ]
    }
   ],
   "metadata": {}
  },
  {
   "cell_type": "code",
   "execution_count": 24,
   "source": [
    "ridgeRegressionGrid = Ridge(alpha=1, fit_intercept=True, normalize=True, random_state=0).fit(X_train, train_data['IMDB Score'])\n",
    "\n",
    "print('Train R^2: ', ridgeRegressionGrid.score(X_train, train_data['IMDB Score']))\n",
    "print('Test R^2: ', ridgeRegressionGrid.score(X_test, test_data['IMDB Score']))\n",
    "\n",
    "print('Train MAE: ', mean_absolute_error(ridgeRegressionGrid.predict(X_train), train_data['IMDB Score']))\n",
    "print('Test MAE: ', mean_absolute_error(ridgeRegressionGrid.predict(X_test), test_data['IMDB Score']))\n",
    "\n",
    "print('Train MSE: ', mean_squared_error(ridgeRegressionGrid.predict(X_train), train_data['IMDB Score']))\n",
    "print('Test MSE: ', mean_squared_error(ridgeRegressionGrid.predict(X_test), test_data['IMDB Score']))"
   ],
   "outputs": [
    {
     "output_type": "stream",
     "name": "stdout",
     "text": [
      "Train R^2:  0.4471618617605746\n",
      "Test R^2:  0.35788726526000325\n",
      "Train MAE:  0.6677622829582377\n",
      "Test MAE:  0.7228114470349141\n",
      "Train MSE:  0.7600313953296844\n",
      "Test MSE:  0.879409628278469\n"
     ]
    }
   ],
   "metadata": {}
  },
  {
   "cell_type": "markdown",
   "source": [
    "# Lasso (Least Absolute Shrinkage and Selection Operator)"
   ],
   "metadata": {}
  },
  {
   "cell_type": "code",
   "execution_count": 26,
   "source": [
    "lassoRegression = Lasso(alpha=0.01, random_state=0).fit(X_train, train_data['IMDB Score'])"
   ],
   "outputs": [],
   "metadata": {}
  },
  {
   "cell_type": "code",
   "execution_count": 27,
   "source": [
    "print('train R^2: ', lassoRegression.score(X_train, train_data['IMDB Score']))\n",
    "print('test R^2: ', lassoRegression.score(X_test, test_data['IMDB Score']))\n",
    "\n",
    "print('train MAE: ', mean_absolute_error(lassoRegression.predict(X_train), train_data['IMDB Score']))\n",
    "print('test MAE: ', mean_absolute_error(lassoRegression.predict(X_test), test_data['IMDB Score']))\n",
    "\n",
    "print('train MSE: ', mean_squared_error(lassoRegression.predict(X_train), train_data['IMDB Score']))\n",
    "print('test MSE: ', mean_squared_error(lassoRegression.predict(X_test), test_data['IMDB Score']))"
   ],
   "outputs": [
    {
     "output_type": "stream",
     "name": "stdout",
     "text": [
      "train R^2:  0.3067452704795627\n",
      "test R^2:  0.304028552361731\n",
      "train MAE:  0.7552564534961796\n",
      "test MAE:  0.752210485497123\n",
      "train MSE:  0.9530734639152751\n",
      "test MSE:  0.953172175144332\n"
     ]
    }
   ],
   "metadata": {}
  },
  {
   "cell_type": "code",
   "execution_count": 28,
   "source": [
    "parameters = {'alpha':[0.1, 0.01, 0.5], 'fit_intercept':[True,False], 'normalize':[True,False], 'selection':['cyclic', 'random']}\n",
    "lassoModel = GridSearchCV(estimator=Lasso(), param_grid=parameters, scoring='r2', cv=5, error_score=\"raise\").fit(X_train, train_data['IMDB Score'])"
   ],
   "outputs": [],
   "metadata": {}
  },
  {
   "cell_type": "code",
   "execution_count": 29,
   "source": [
    "print(lassoModel.best_estimator_)\n",
    "print(lassoModel.best_params_)\n",
    "print(lassoModel.best_score_)"
   ],
   "outputs": [
    {
     "output_type": "stream",
     "name": "stdout",
     "text": [
      "Lasso(alpha=0.01)\n",
      "{'alpha': 0.01, 'fit_intercept': True, 'normalize': False, 'selection': 'cyclic'}\n",
      "0.30428428001259844\n"
     ]
    }
   ],
   "metadata": {}
  },
  {
   "cell_type": "code",
   "execution_count": 30,
   "source": [
    "lassoRegressionGrid = Lasso(alpha=0.01, normalize=False, selection='cyclic').fit(X_train, train_data['IMDB Score'])\n",
    "\n",
    "print('train R^2: ', lassoRegressionGrid.score(X_train, train_data['IMDB Score']))\n",
    "print('test R^2: ', lassoRegressionGrid.score(X_test, test_data['IMDB Score']))\n",
    "\n",
    "print('train MAE: ', mean_absolute_error(lassoRegressionGrid.predict(X_train), train_data['IMDB Score']))\n",
    "print('test MAE: ', mean_absolute_error(lassoRegressionGrid.predict(X_test), test_data['IMDB Score']))\n",
    "\n",
    "print('train MSE: ', mean_squared_error(lassoRegressionGrid.predict(X_train), train_data['IMDB Score']))\n",
    "print('test MSE: ', mean_squared_error(lassoRegressionGrid.predict(X_test), test_data['IMDB Score']))"
   ],
   "outputs": [
    {
     "output_type": "stream",
     "name": "stdout",
     "text": [
      "train R^2:  0.3067452704795627\n",
      "test R^2:  0.304028552361731\n",
      "train MAE:  0.7552564534961796\n",
      "test MAE:  0.752210485497123\n",
      "train MSE:  0.9530734639152751\n",
      "test MSE:  0.953172175144332\n"
     ]
    }
   ],
   "metadata": {}
  },
  {
   "cell_type": "markdown",
   "source": [
    "# Random Forest"
   ],
   "metadata": {}
  },
  {
   "cell_type": "code",
   "execution_count": 31,
   "source": [
    "RandomForestReg = RandomForestRegressor(n_estimators=100, max_depth=32).fit(X_train, train_data['IMDB Score'])"
   ],
   "outputs": [],
   "metadata": {}
  },
  {
   "cell_type": "code",
   "execution_count": 32,
   "source": [
    "print('train R^2: ', RandomForestReg.score(X_train, train_data['IMDB Score']))\n",
    "print('test R^2: ', RandomForestReg.score(X_test, test_data['IMDB Score']))\n",
    "\n",
    "print('train MAE: ', mean_absolute_error(RandomForestReg.predict(X_train), train_data['IMDB Score']))\n",
    "print('test MAE: ', mean_absolute_error(RandomForestReg.predict(X_test), test_data['IMDB Score']))\n",
    "\n",
    "print('train MSE: ', mean_squared_error(RandomForestReg.predict(X_train), train_data['IMDB Score']))\n",
    "print('test MSE: ', mean_squared_error(RandomForestReg.predict(X_test), test_data['IMDB Score']))"
   ],
   "outputs": [
    {
     "output_type": "stream",
     "name": "stdout",
     "text": [
      "train R^2:  0.775873758735142\n",
      "test R^2:  0.3841432891130364\n",
      "train MAE:  0.42754475097875966\n",
      "test MAE:  0.7003895126126018\n",
      "train MSE:  0.30812450895845167\n",
      "test MSE:  0.8434505218358659\n"
     ]
    }
   ],
   "metadata": {}
  },
  {
   "cell_type": "code",
   "execution_count": 36,
   "source": [
    "parameters = {'n_estimators':[100, 200], 'max_depth':[16, 32], 'min_samples_leaf': [2, 3]}\n",
    "randomForestModel = GridSearchCV(estimator=RandomForestRegressor(), param_grid=parameters, scoring='neg_mean_squared_error', cv=5, error_score=\"raise\").fit(X_train, train_data['IMDB Score'])"
   ],
   "outputs": [],
   "metadata": {}
  },
  {
   "cell_type": "code",
   "execution_count": 37,
   "source": [
    "print(randomForestModel.best_estimator_)\n",
    "print(randomForestModel.best_params_)\n",
    "print(randomForestModel.best_score_)"
   ],
   "outputs": [
    {
     "output_type": "stream",
     "name": "stdout",
     "text": [
      "RandomForestRegressor(max_depth=16, min_samples_leaf=2, n_estimators=200)\n",
      "{'max_depth': 16, 'min_samples_leaf': 2, 'n_estimators': 200}\n",
      "-0.8275262981829945\n"
     ]
    }
   ],
   "metadata": {}
  },
  {
   "cell_type": "code",
   "execution_count": 38,
   "source": [
    "randomForestGrid = RandomForestRegressor(n_estimators=200, max_depth=16, min_samples_leaf=2).fit(X_train, train_data['IMDB Score'])\n",
    "\n",
    "print('train R^2: ', randomForestGrid.score(X_train, train_data['IMDB Score']))\n",
    "print('test R^2: ', randomForestGrid.score(X_test, test_data['IMDB Score']))\n",
    "\n",
    "print('train MAE: ', mean_absolute_error(randomForestGrid.predict(X_train), train_data['IMDB Score']))\n",
    "print('test MAE: ', mean_absolute_error(randomForestGrid.predict(X_test), test_data['IMDB Score']))\n",
    "\n",
    "print('train MSE: ', mean_squared_error(randomForestGrid.predict(X_train), train_data['IMDB Score']))\n",
    "print('test MSE: ', mean_squared_error(randomForestGrid.predict(X_test), test_data['IMDB Score']))"
   ],
   "outputs": [
    {
     "output_type": "stream",
     "name": "stdout",
     "text": [
      "train R^2:  0.5901454611731032\n",
      "test R^2:  0.39978861536412136\n",
      "train MAE:  0.5750427070666909\n",
      "test MAE:  0.6947402597916339\n",
      "train MSE:  0.5634602526135851\n",
      "test MSE:  0.8220233645807881\n"
     ]
    }
   ],
   "metadata": {}
  },
  {
   "cell_type": "code",
   "execution_count": 40,
   "source": [
    "featureImportances = np.argsort(RandomForestReg.feature_importances_)[::-1]\n",
    "print(X_train.columns[featureImportances[:20]])\n",
    "plt.figure()\n",
    "plt.title(\"Feature importances\")\n",
    "plt.bar(range(20),RandomForestReg.feature_importances_[featureImportances[:20]])\n",
    "plt.xticks(range(20), X_train.columns[featureImportances[:20]], rotation='vertical')\n",
    "plt.tight_layout()\n",
    "plt.savefig('../data/randomforest.png')\n",
    "plt.show()"
   ],
   "outputs": [
    {
     "output_type": "stream",
     "name": "stdout",
     "text": [
      "Index(['runtime', 'horror', 'documentary', 'budget', 'drama', 'action',\n",
      "       'animation', 'sci-fi', 'thriller', 'crime', 'comedy', 'the asylum',\n",
      "       'adventure', 'fantasy', 'mystery', 'short', 'biography', 'family',\n",
      "       'romance', 'woody allen'],\n",
      "      dtype='object')\n"
     ]
    },
    {
     "output_type": "display_data",
     "data": {
      "text/plain": [
       "<Figure size 432x288 with 1 Axes>"
      ],
      "image/svg+xml": "<?xml version=\"1.0\" encoding=\"utf-8\" standalone=\"no\"?>\n<!DOCTYPE svg PUBLIC \"-//W3C//DTD SVG 1.1//EN\"\n  \"http://www.w3.org/Graphics/SVG/1.1/DTD/svg11.dtd\">\n<svg height=\"280.155625pt\" version=\"1.1\" viewBox=\"0 0 418.315625 280.155625\" width=\"418.315625pt\" xmlns=\"http://www.w3.org/2000/svg\" xmlns:xlink=\"http://www.w3.org/1999/xlink\">\n <metadata>\n  <rdf:RDF xmlns:cc=\"http://creativecommons.org/ns#\" xmlns:dc=\"http://purl.org/dc/elements/1.1/\" xmlns:rdf=\"http://www.w3.org/1999/02/22-rdf-syntax-ns#\">\n   <cc:Work>\n    <dc:type rdf:resource=\"http://purl.org/dc/dcmitype/StillImage\"/>\n    <dc:date>2021-08-27T21:46:51.195865</dc:date>\n    <dc:format>image/svg+xml</dc:format>\n    <dc:creator>\n     <cc:Agent>\n      <dc:title>Matplotlib v3.4.2, https://matplotlib.org/</dc:title>\n     </cc:Agent>\n    </dc:creator>\n   </cc:Work>\n  </rdf:RDF>\n </metadata>\n <defs>\n  <style type=\"text/css\">*{stroke-linecap:butt;stroke-linejoin:round;}</style>\n </defs>\n <g id=\"figure_1\">\n  <g id=\"patch_1\">\n   <path d=\"M 0 280.155625 \nL 418.315625 280.155625 \nL 418.315625 0 \nL 0 0 \nz\n\" style=\"fill:none;\"/>\n  </g>\n  <g id=\"axes_1\">\n   <g id=\"patch_2\">\n    <path d=\"M 36.465625 199.343125 \nL 411.115625 199.343125 \nL 411.115625 22.318125 \nL 36.465625 22.318125 \nz\n\" style=\"fill:#ffffff;\"/>\n   </g>\n   <g id=\"patch_3\">\n    <path clip-path=\"url(#pbc35551861)\" d=\"M 53.49517 199.343125 \nL 67.256419 199.343125 \nL 67.256419 30.747887 \nL 53.49517 30.747887 \nz\n\" style=\"fill:#1f77b4;\"/>\n   </g>\n   <g id=\"patch_4\">\n    <path clip-path=\"url(#pbc35551861)\" d=\"M 70.696732 199.343125 \nL 84.45798 199.343125 \nL 84.45798 98.824065 \nL 70.696732 98.824065 \nz\n\" style=\"fill:#1f77b4;\"/>\n   </g>\n   <g id=\"patch_5\">\n    <path clip-path=\"url(#pbc35551861)\" d=\"M 87.898293 199.343125 \nL 101.659541 199.343125 \nL 101.659541 142.214164 \nL 87.898293 142.214164 \nz\n\" style=\"fill:#1f77b4;\"/>\n   </g>\n   <g id=\"patch_6\">\n    <path clip-path=\"url(#pbc35551861)\" d=\"M 105.099854 199.343125 \nL 118.861103 199.343125 \nL 118.861103 159.024405 \nL 105.099854 159.024405 \nz\n\" style=\"fill:#1f77b4;\"/>\n   </g>\n   <g id=\"patch_7\">\n    <path clip-path=\"url(#pbc35551861)\" d=\"M 122.301415 199.343125 \nL 136.062664 199.343125 \nL 136.062664 167.210734 \nL 122.301415 167.210734 \nz\n\" style=\"fill:#1f77b4;\"/>\n   </g>\n   <g id=\"patch_8\">\n    <path clip-path=\"url(#pbc35551861)\" d=\"M 139.502976 199.343125 \nL 153.264225 199.343125 \nL 153.264225 176.26925 \nL 139.502976 176.26925 \nz\n\" style=\"fill:#1f77b4;\"/>\n   </g>\n   <g id=\"patch_9\">\n    <path clip-path=\"url(#pbc35551861)\" d=\"M 156.704537 199.343125 \nL 170.465786 199.343125 \nL 170.465786 180.474644 \nL 156.704537 180.474644 \nz\n\" style=\"fill:#1f77b4;\"/>\n   </g>\n   <g id=\"patch_10\">\n    <path clip-path=\"url(#pbc35551861)\" d=\"M 173.906098 199.343125 \nL 187.667347 199.343125 \nL 187.667347 186.357561 \nL 173.906098 186.357561 \nz\n\" style=\"fill:#1f77b4;\"/>\n   </g>\n   <g id=\"patch_11\">\n    <path clip-path=\"url(#pbc35551861)\" d=\"M 191.107659 199.343125 \nL 204.868908 199.343125 \nL 204.868908 189.215717 \nL 191.107659 189.215717 \nz\n\" style=\"fill:#1f77b4;\"/>\n   </g>\n   <g id=\"patch_12\">\n    <path clip-path=\"url(#pbc35551861)\" d=\"M 208.30922 199.343125 \nL 222.070469 199.343125 \nL 222.070469 190.14868 \nL 208.30922 190.14868 \nz\n\" style=\"fill:#1f77b4;\"/>\n   </g>\n   <g id=\"patch_13\">\n    <path clip-path=\"url(#pbc35551861)\" d=\"M 225.510781 199.343125 \nL 239.27203 199.343125 \nL 239.27203 190.160988 \nL 225.510781 190.160988 \nz\n\" style=\"fill:#1f77b4;\"/>\n   </g>\n   <g id=\"patch_14\">\n    <path clip-path=\"url(#pbc35551861)\" d=\"M 242.712342 199.343125 \nL 256.473591 199.343125 \nL 256.473591 190.932569 \nL 242.712342 190.932569 \nz\n\" style=\"fill:#1f77b4;\"/>\n   </g>\n   <g id=\"patch_15\">\n    <path clip-path=\"url(#pbc35551861)\" d=\"M 259.913903 199.343125 \nL 273.675152 199.343125 \nL 273.675152 193.555696 \nL 259.913903 193.555696 \nz\n\" style=\"fill:#1f77b4;\"/>\n   </g>\n   <g id=\"patch_16\">\n    <path clip-path=\"url(#pbc35551861)\" d=\"M 277.115464 199.343125 \nL 290.876713 199.343125 \nL 290.876713 194.091273 \nL 277.115464 194.091273 \nz\n\" style=\"fill:#1f77b4;\"/>\n   </g>\n   <g id=\"patch_17\">\n    <path clip-path=\"url(#pbc35551861)\" d=\"M 294.317025 199.343125 \nL 308.078274 199.343125 \nL 308.078274 194.812909 \nL 294.317025 194.812909 \nz\n\" style=\"fill:#1f77b4;\"/>\n   </g>\n   <g id=\"patch_18\">\n    <path clip-path=\"url(#pbc35551861)\" d=\"M 311.518586 199.343125 \nL 325.279835 199.343125 \nL 325.279835 195.026773 \nL 311.518586 195.026773 \nz\n\" style=\"fill:#1f77b4;\"/>\n   </g>\n   <g id=\"patch_19\">\n    <path clip-path=\"url(#pbc35551861)\" d=\"M 328.720147 199.343125 \nL 342.481396 199.343125 \nL 342.481396 195.733329 \nL 328.720147 195.733329 \nz\n\" style=\"fill:#1f77b4;\"/>\n   </g>\n   <g id=\"patch_20\">\n    <path clip-path=\"url(#pbc35551861)\" d=\"M 345.921709 199.343125 \nL 359.682957 199.343125 \nL 359.682957 195.868204 \nL 345.921709 195.868204 \nz\n\" style=\"fill:#1f77b4;\"/>\n   </g>\n   <g id=\"patch_21\">\n    <path clip-path=\"url(#pbc35551861)\" d=\"M 363.12327 199.343125 \nL 376.884518 199.343125 \nL 376.884518 195.962846 \nL 363.12327 195.962846 \nz\n\" style=\"fill:#1f77b4;\"/>\n   </g>\n   <g id=\"patch_22\">\n    <path clip-path=\"url(#pbc35551861)\" d=\"M 380.324831 199.343125 \nL 394.08608 199.343125 \nL 394.08608 196.261516 \nL 380.324831 196.261516 \nz\n\" style=\"fill:#1f77b4;\"/>\n   </g>\n   <g id=\"matplotlib.axis_1\">\n    <g id=\"xtick_1\">\n     <g id=\"line2d_1\">\n      <defs>\n       <path d=\"M 0 0 \nL 0 3.5 \n\" id=\"m74723ee243\" style=\"stroke:#000000;stroke-width:0.8;\"/>\n      </defs>\n      <g>\n       <use style=\"stroke:#000000;stroke-width:0.8;\" x=\"60.375795\" xlink:href=\"#m74723ee243\" y=\"199.343125\"/>\n      </g>\n     </g>\n     <g id=\"text_1\">\n      <!-- runtime -->\n      <g transform=\"translate(63.13517 245.72125)rotate(-90)scale(0.1 -0.1)\">\n       <defs>\n        <path d=\"M 2631 2963 \nQ 2534 3019 2420 3045 \nQ 2306 3072 2169 3072 \nQ 1681 3072 1420 2755 \nQ 1159 2438 1159 1844 \nL 1159 0 \nL 581 0 \nL 581 3500 \nL 1159 3500 \nL 1159 2956 \nQ 1341 3275 1631 3429 \nQ 1922 3584 2338 3584 \nQ 2397 3584 2469 3576 \nQ 2541 3569 2628 3553 \nL 2631 2963 \nz\n\" id=\"DejaVuSans-72\" transform=\"scale(0.015625)\"/>\n        <path d=\"M 544 1381 \nL 544 3500 \nL 1119 3500 \nL 1119 1403 \nQ 1119 906 1312 657 \nQ 1506 409 1894 409 \nQ 2359 409 2629 706 \nQ 2900 1003 2900 1516 \nL 2900 3500 \nL 3475 3500 \nL 3475 0 \nL 2900 0 \nL 2900 538 \nQ 2691 219 2414 64 \nQ 2138 -91 1772 -91 \nQ 1169 -91 856 284 \nQ 544 659 544 1381 \nz\nM 1991 3584 \nL 1991 3584 \nz\n\" id=\"DejaVuSans-75\" transform=\"scale(0.015625)\"/>\n        <path d=\"M 3513 2113 \nL 3513 0 \nL 2938 0 \nL 2938 2094 \nQ 2938 2591 2744 2837 \nQ 2550 3084 2163 3084 \nQ 1697 3084 1428 2787 \nQ 1159 2491 1159 1978 \nL 1159 0 \nL 581 0 \nL 581 3500 \nL 1159 3500 \nL 1159 2956 \nQ 1366 3272 1645 3428 \nQ 1925 3584 2291 3584 \nQ 2894 3584 3203 3211 \nQ 3513 2838 3513 2113 \nz\n\" id=\"DejaVuSans-6e\" transform=\"scale(0.015625)\"/>\n        <path d=\"M 1172 4494 \nL 1172 3500 \nL 2356 3500 \nL 2356 3053 \nL 1172 3053 \nL 1172 1153 \nQ 1172 725 1289 603 \nQ 1406 481 1766 481 \nL 2356 481 \nL 2356 0 \nL 1766 0 \nQ 1100 0 847 248 \nQ 594 497 594 1153 \nL 594 3053 \nL 172 3053 \nL 172 3500 \nL 594 3500 \nL 594 4494 \nL 1172 4494 \nz\n\" id=\"DejaVuSans-74\" transform=\"scale(0.015625)\"/>\n        <path d=\"M 603 3500 \nL 1178 3500 \nL 1178 0 \nL 603 0 \nL 603 3500 \nz\nM 603 4863 \nL 1178 4863 \nL 1178 4134 \nL 603 4134 \nL 603 4863 \nz\n\" id=\"DejaVuSans-69\" transform=\"scale(0.015625)\"/>\n        <path d=\"M 3328 2828 \nQ 3544 3216 3844 3400 \nQ 4144 3584 4550 3584 \nQ 5097 3584 5394 3201 \nQ 5691 2819 5691 2113 \nL 5691 0 \nL 5113 0 \nL 5113 2094 \nQ 5113 2597 4934 2840 \nQ 4756 3084 4391 3084 \nQ 3944 3084 3684 2787 \nQ 3425 2491 3425 1978 \nL 3425 0 \nL 2847 0 \nL 2847 2094 \nQ 2847 2600 2669 2842 \nQ 2491 3084 2119 3084 \nQ 1678 3084 1418 2786 \nQ 1159 2488 1159 1978 \nL 1159 0 \nL 581 0 \nL 581 3500 \nL 1159 3500 \nL 1159 2956 \nQ 1356 3278 1631 3431 \nQ 1906 3584 2284 3584 \nQ 2666 3584 2933 3390 \nQ 3200 3197 3328 2828 \nz\n\" id=\"DejaVuSans-6d\" transform=\"scale(0.015625)\"/>\n        <path d=\"M 3597 1894 \nL 3597 1613 \nL 953 1613 \nQ 991 1019 1311 708 \nQ 1631 397 2203 397 \nQ 2534 397 2845 478 \nQ 3156 559 3463 722 \nL 3463 178 \nQ 3153 47 2828 -22 \nQ 2503 -91 2169 -91 \nQ 1331 -91 842 396 \nQ 353 884 353 1716 \nQ 353 2575 817 3079 \nQ 1281 3584 2069 3584 \nQ 2775 3584 3186 3129 \nQ 3597 2675 3597 1894 \nz\nM 3022 2063 \nQ 3016 2534 2758 2815 \nQ 2500 3097 2075 3097 \nQ 1594 3097 1305 2825 \nQ 1016 2553 972 2059 \nL 3022 2063 \nz\n\" id=\"DejaVuSans-65\" transform=\"scale(0.015625)\"/>\n       </defs>\n       <use xlink:href=\"#DejaVuSans-72\"/>\n       <use x=\"41.113281\" xlink:href=\"#DejaVuSans-75\"/>\n       <use x=\"104.492188\" xlink:href=\"#DejaVuSans-6e\"/>\n       <use x=\"167.871094\" xlink:href=\"#DejaVuSans-74\"/>\n       <use x=\"207.080078\" xlink:href=\"#DejaVuSans-69\"/>\n       <use x=\"234.863281\" xlink:href=\"#DejaVuSans-6d\"/>\n       <use x=\"332.275391\" xlink:href=\"#DejaVuSans-65\"/>\n      </g>\n     </g>\n    </g>\n    <g id=\"xtick_2\">\n     <g id=\"line2d_2\">\n      <g>\n       <use style=\"stroke:#000000;stroke-width:0.8;\" x=\"77.577356\" xlink:href=\"#m74723ee243\" y=\"199.343125\"/>\n      </g>\n     </g>\n     <g id=\"text_2\">\n      <!-- horror -->\n      <g transform=\"translate(80.336731 236.850938)rotate(-90)scale(0.1 -0.1)\">\n       <defs>\n        <path d=\"M 3513 2113 \nL 3513 0 \nL 2938 0 \nL 2938 2094 \nQ 2938 2591 2744 2837 \nQ 2550 3084 2163 3084 \nQ 1697 3084 1428 2787 \nQ 1159 2491 1159 1978 \nL 1159 0 \nL 581 0 \nL 581 4863 \nL 1159 4863 \nL 1159 2956 \nQ 1366 3272 1645 3428 \nQ 1925 3584 2291 3584 \nQ 2894 3584 3203 3211 \nQ 3513 2838 3513 2113 \nz\n\" id=\"DejaVuSans-68\" transform=\"scale(0.015625)\"/>\n        <path d=\"M 1959 3097 \nQ 1497 3097 1228 2736 \nQ 959 2375 959 1747 \nQ 959 1119 1226 758 \nQ 1494 397 1959 397 \nQ 2419 397 2687 759 \nQ 2956 1122 2956 1747 \nQ 2956 2369 2687 2733 \nQ 2419 3097 1959 3097 \nz\nM 1959 3584 \nQ 2709 3584 3137 3096 \nQ 3566 2609 3566 1747 \nQ 3566 888 3137 398 \nQ 2709 -91 1959 -91 \nQ 1206 -91 779 398 \nQ 353 888 353 1747 \nQ 353 2609 779 3096 \nQ 1206 3584 1959 3584 \nz\n\" id=\"DejaVuSans-6f\" transform=\"scale(0.015625)\"/>\n       </defs>\n       <use xlink:href=\"#DejaVuSans-68\"/>\n       <use x=\"63.378906\" xlink:href=\"#DejaVuSans-6f\"/>\n       <use x=\"124.560547\" xlink:href=\"#DejaVuSans-72\"/>\n       <use x=\"163.923828\" xlink:href=\"#DejaVuSans-72\"/>\n       <use x=\"202.787109\" xlink:href=\"#DejaVuSans-6f\"/>\n       <use x=\"263.96875\" xlink:href=\"#DejaVuSans-72\"/>\n      </g>\n     </g>\n    </g>\n    <g id=\"xtick_3\">\n     <g id=\"line2d_3\">\n      <g>\n       <use style=\"stroke:#000000;stroke-width:0.8;\" x=\"94.778917\" xlink:href=\"#m74723ee243\" y=\"199.343125\"/>\n      </g>\n     </g>\n     <g id=\"text_3\">\n      <!-- documentary -->\n      <g transform=\"translate(97.538292 272.955625)rotate(-90)scale(0.1 -0.1)\">\n       <defs>\n        <path d=\"M 2906 2969 \nL 2906 4863 \nL 3481 4863 \nL 3481 0 \nL 2906 0 \nL 2906 525 \nQ 2725 213 2448 61 \nQ 2172 -91 1784 -91 \nQ 1150 -91 751 415 \nQ 353 922 353 1747 \nQ 353 2572 751 3078 \nQ 1150 3584 1784 3584 \nQ 2172 3584 2448 3432 \nQ 2725 3281 2906 2969 \nz\nM 947 1747 \nQ 947 1113 1208 752 \nQ 1469 391 1925 391 \nQ 2381 391 2643 752 \nQ 2906 1113 2906 1747 \nQ 2906 2381 2643 2742 \nQ 2381 3103 1925 3103 \nQ 1469 3103 1208 2742 \nQ 947 2381 947 1747 \nz\n\" id=\"DejaVuSans-64\" transform=\"scale(0.015625)\"/>\n        <path d=\"M 3122 3366 \nL 3122 2828 \nQ 2878 2963 2633 3030 \nQ 2388 3097 2138 3097 \nQ 1578 3097 1268 2742 \nQ 959 2388 959 1747 \nQ 959 1106 1268 751 \nQ 1578 397 2138 397 \nQ 2388 397 2633 464 \nQ 2878 531 3122 666 \nL 3122 134 \nQ 2881 22 2623 -34 \nQ 2366 -91 2075 -91 \nQ 1284 -91 818 406 \nQ 353 903 353 1747 \nQ 353 2603 823 3093 \nQ 1294 3584 2113 3584 \nQ 2378 3584 2631 3529 \nQ 2884 3475 3122 3366 \nz\n\" id=\"DejaVuSans-63\" transform=\"scale(0.015625)\"/>\n        <path d=\"M 2194 1759 \nQ 1497 1759 1228 1600 \nQ 959 1441 959 1056 \nQ 959 750 1161 570 \nQ 1363 391 1709 391 \nQ 2188 391 2477 730 \nQ 2766 1069 2766 1631 \nL 2766 1759 \nL 2194 1759 \nz\nM 3341 1997 \nL 3341 0 \nL 2766 0 \nL 2766 531 \nQ 2569 213 2275 61 \nQ 1981 -91 1556 -91 \nQ 1019 -91 701 211 \nQ 384 513 384 1019 \nQ 384 1609 779 1909 \nQ 1175 2209 1959 2209 \nL 2766 2209 \nL 2766 2266 \nQ 2766 2663 2505 2880 \nQ 2244 3097 1772 3097 \nQ 1472 3097 1187 3025 \nQ 903 2953 641 2809 \nL 641 3341 \nQ 956 3463 1253 3523 \nQ 1550 3584 1831 3584 \nQ 2591 3584 2966 3190 \nQ 3341 2797 3341 1997 \nz\n\" id=\"DejaVuSans-61\" transform=\"scale(0.015625)\"/>\n        <path d=\"M 2059 -325 \nQ 1816 -950 1584 -1140 \nQ 1353 -1331 966 -1331 \nL 506 -1331 \nL 506 -850 \nL 844 -850 \nQ 1081 -850 1212 -737 \nQ 1344 -625 1503 -206 \nL 1606 56 \nL 191 3500 \nL 800 3500 \nL 1894 763 \nL 2988 3500 \nL 3597 3500 \nL 2059 -325 \nz\n\" id=\"DejaVuSans-79\" transform=\"scale(0.015625)\"/>\n       </defs>\n       <use xlink:href=\"#DejaVuSans-64\"/>\n       <use x=\"63.476562\" xlink:href=\"#DejaVuSans-6f\"/>\n       <use x=\"124.658203\" xlink:href=\"#DejaVuSans-63\"/>\n       <use x=\"179.638672\" xlink:href=\"#DejaVuSans-75\"/>\n       <use x=\"243.017578\" xlink:href=\"#DejaVuSans-6d\"/>\n       <use x=\"340.429688\" xlink:href=\"#DejaVuSans-65\"/>\n       <use x=\"401.953125\" xlink:href=\"#DejaVuSans-6e\"/>\n       <use x=\"465.332031\" xlink:href=\"#DejaVuSans-74\"/>\n       <use x=\"504.541016\" xlink:href=\"#DejaVuSans-61\"/>\n       <use x=\"565.820312\" xlink:href=\"#DejaVuSans-72\"/>\n       <use x=\"606.933594\" xlink:href=\"#DejaVuSans-79\"/>\n      </g>\n     </g>\n    </g>\n    <g id=\"xtick_4\">\n     <g id=\"line2d_4\">\n      <g>\n       <use style=\"stroke:#000000;stroke-width:0.8;\" x=\"111.980478\" xlink:href=\"#m74723ee243\" y=\"199.343125\"/>\n      </g>\n     </g>\n     <g id=\"text_4\">\n      <!-- budget -->\n      <g transform=\"translate(114.739853 241.799375)rotate(-90)scale(0.1 -0.1)\">\n       <defs>\n        <path d=\"M 3116 1747 \nQ 3116 2381 2855 2742 \nQ 2594 3103 2138 3103 \nQ 1681 3103 1420 2742 \nQ 1159 2381 1159 1747 \nQ 1159 1113 1420 752 \nQ 1681 391 2138 391 \nQ 2594 391 2855 752 \nQ 3116 1113 3116 1747 \nz\nM 1159 2969 \nQ 1341 3281 1617 3432 \nQ 1894 3584 2278 3584 \nQ 2916 3584 3314 3078 \nQ 3713 2572 3713 1747 \nQ 3713 922 3314 415 \nQ 2916 -91 2278 -91 \nQ 1894 -91 1617 61 \nQ 1341 213 1159 525 \nL 1159 0 \nL 581 0 \nL 581 4863 \nL 1159 4863 \nL 1159 2969 \nz\n\" id=\"DejaVuSans-62\" transform=\"scale(0.015625)\"/>\n        <path d=\"M 2906 1791 \nQ 2906 2416 2648 2759 \nQ 2391 3103 1925 3103 \nQ 1463 3103 1205 2759 \nQ 947 2416 947 1791 \nQ 947 1169 1205 825 \nQ 1463 481 1925 481 \nQ 2391 481 2648 825 \nQ 2906 1169 2906 1791 \nz\nM 3481 434 \nQ 3481 -459 3084 -895 \nQ 2688 -1331 1869 -1331 \nQ 1566 -1331 1297 -1286 \nQ 1028 -1241 775 -1147 \nL 775 -588 \nQ 1028 -725 1275 -790 \nQ 1522 -856 1778 -856 \nQ 2344 -856 2625 -561 \nQ 2906 -266 2906 331 \nL 2906 616 \nQ 2728 306 2450 153 \nQ 2172 0 1784 0 \nQ 1141 0 747 490 \nQ 353 981 353 1791 \nQ 353 2603 747 3093 \nQ 1141 3584 1784 3584 \nQ 2172 3584 2450 3431 \nQ 2728 3278 2906 2969 \nL 2906 3500 \nL 3481 3500 \nL 3481 434 \nz\n\" id=\"DejaVuSans-67\" transform=\"scale(0.015625)\"/>\n       </defs>\n       <use xlink:href=\"#DejaVuSans-62\"/>\n       <use x=\"63.476562\" xlink:href=\"#DejaVuSans-75\"/>\n       <use x=\"126.855469\" xlink:href=\"#DejaVuSans-64\"/>\n       <use x=\"190.332031\" xlink:href=\"#DejaVuSans-67\"/>\n       <use x=\"253.808594\" xlink:href=\"#DejaVuSans-65\"/>\n       <use x=\"315.332031\" xlink:href=\"#DejaVuSans-74\"/>\n      </g>\n     </g>\n    </g>\n    <g id=\"xtick_5\">\n     <g id=\"line2d_5\">\n      <g>\n       <use style=\"stroke:#000000;stroke-width:0.8;\" x=\"129.182039\" xlink:href=\"#m74723ee243\" y=\"199.343125\"/>\n      </g>\n     </g>\n     <g id=\"text_5\">\n      <!-- drama -->\n      <g transform=\"translate(131.941414 238.799375)rotate(-90)scale(0.1 -0.1)\">\n       <use xlink:href=\"#DejaVuSans-64\"/>\n       <use x=\"63.476562\" xlink:href=\"#DejaVuSans-72\"/>\n       <use x=\"104.589844\" xlink:href=\"#DejaVuSans-61\"/>\n       <use x=\"165.869141\" xlink:href=\"#DejaVuSans-6d\"/>\n       <use x=\"263.28125\" xlink:href=\"#DejaVuSans-61\"/>\n      </g>\n     </g>\n    </g>\n    <g id=\"xtick_6\">\n     <g id=\"line2d_6\">\n      <g>\n       <use style=\"stroke:#000000;stroke-width:0.8;\" x=\"146.3836\" xlink:href=\"#m74723ee243\" y=\"199.343125\"/>\n      </g>\n     </g>\n     <g id=\"text_6\">\n      <!-- action -->\n      <g transform=\"translate(149.142975 237.124375)rotate(-90)scale(0.1 -0.1)\">\n       <use xlink:href=\"#DejaVuSans-61\"/>\n       <use x=\"61.279297\" xlink:href=\"#DejaVuSans-63\"/>\n       <use x=\"116.259766\" xlink:href=\"#DejaVuSans-74\"/>\n       <use x=\"155.46875\" xlink:href=\"#DejaVuSans-69\"/>\n       <use x=\"183.251953\" xlink:href=\"#DejaVuSans-6f\"/>\n       <use x=\"244.433594\" xlink:href=\"#DejaVuSans-6e\"/>\n      </g>\n     </g>\n    </g>\n    <g id=\"xtick_7\">\n     <g id=\"line2d_7\">\n      <g>\n       <use style=\"stroke:#000000;stroke-width:0.8;\" x=\"163.585161\" xlink:href=\"#m74723ee243\" y=\"199.343125\"/>\n      </g>\n     </g>\n     <g id=\"text_7\">\n      <!-- animation -->\n      <g transform=\"translate(166.344536 256.610313)rotate(-90)scale(0.1 -0.1)\">\n       <use xlink:href=\"#DejaVuSans-61\"/>\n       <use x=\"61.279297\" xlink:href=\"#DejaVuSans-6e\"/>\n       <use x=\"124.658203\" xlink:href=\"#DejaVuSans-69\"/>\n       <use x=\"152.441406\" xlink:href=\"#DejaVuSans-6d\"/>\n       <use x=\"249.853516\" xlink:href=\"#DejaVuSans-61\"/>\n       <use x=\"311.132812\" xlink:href=\"#DejaVuSans-74\"/>\n       <use x=\"350.341797\" xlink:href=\"#DejaVuSans-69\"/>\n       <use x=\"378.125\" xlink:href=\"#DejaVuSans-6f\"/>\n       <use x=\"439.306641\" xlink:href=\"#DejaVuSans-6e\"/>\n      </g>\n     </g>\n    </g>\n    <g id=\"xtick_8\">\n     <g id=\"line2d_8\">\n      <g>\n       <use style=\"stroke:#000000;stroke-width:0.8;\" x=\"180.786722\" xlink:href=\"#m74723ee243\" y=\"199.343125\"/>\n      </g>\n     </g>\n     <g id=\"text_8\">\n      <!-- sci-fi -->\n      <g transform=\"translate(183.546097 229.735313)rotate(-90)scale(0.1 -0.1)\">\n       <defs>\n        <path d=\"M 2834 3397 \nL 2834 2853 \nQ 2591 2978 2328 3040 \nQ 2066 3103 1784 3103 \nQ 1356 3103 1142 2972 \nQ 928 2841 928 2578 \nQ 928 2378 1081 2264 \nQ 1234 2150 1697 2047 \nL 1894 2003 \nQ 2506 1872 2764 1633 \nQ 3022 1394 3022 966 \nQ 3022 478 2636 193 \nQ 2250 -91 1575 -91 \nQ 1294 -91 989 -36 \nQ 684 19 347 128 \nL 347 722 \nQ 666 556 975 473 \nQ 1284 391 1588 391 \nQ 1994 391 2212 530 \nQ 2431 669 2431 922 \nQ 2431 1156 2273 1281 \nQ 2116 1406 1581 1522 \nL 1381 1569 \nQ 847 1681 609 1914 \nQ 372 2147 372 2553 \nQ 372 3047 722 3315 \nQ 1072 3584 1716 3584 \nQ 2034 3584 2315 3537 \nQ 2597 3491 2834 3397 \nz\n\" id=\"DejaVuSans-73\" transform=\"scale(0.015625)\"/>\n        <path d=\"M 313 2009 \nL 1997 2009 \nL 1997 1497 \nL 313 1497 \nL 313 2009 \nz\n\" id=\"DejaVuSans-2d\" transform=\"scale(0.015625)\"/>\n        <path d=\"M 2375 4863 \nL 2375 4384 \nL 1825 4384 \nQ 1516 4384 1395 4259 \nQ 1275 4134 1275 3809 \nL 1275 3500 \nL 2222 3500 \nL 2222 3053 \nL 1275 3053 \nL 1275 0 \nL 697 0 \nL 697 3053 \nL 147 3053 \nL 147 3500 \nL 697 3500 \nL 697 3744 \nQ 697 4328 969 4595 \nQ 1241 4863 1831 4863 \nL 2375 4863 \nz\n\" id=\"DejaVuSans-66\" transform=\"scale(0.015625)\"/>\n       </defs>\n       <use xlink:href=\"#DejaVuSans-73\"/>\n       <use x=\"52.099609\" xlink:href=\"#DejaVuSans-63\"/>\n       <use x=\"107.080078\" xlink:href=\"#DejaVuSans-69\"/>\n       <use x=\"134.863281\" xlink:href=\"#DejaVuSans-2d\"/>\n       <use x=\"170.947266\" xlink:href=\"#DejaVuSans-66\"/>\n       <use x=\"206.152344\" xlink:href=\"#DejaVuSans-69\"/>\n      </g>\n     </g>\n    </g>\n    <g id=\"xtick_9\">\n     <g id=\"line2d_9\">\n      <g>\n       <use style=\"stroke:#000000;stroke-width:0.8;\" x=\"197.988283\" xlink:href=\"#m74723ee243\" y=\"199.343125\"/>\n      </g>\n     </g>\n     <g id=\"text_9\">\n      <!-- thriller -->\n      <g transform=\"translate(200.747658 239.310313)rotate(-90)scale(0.1 -0.1)\">\n       <defs>\n        <path d=\"M 603 4863 \nL 1178 4863 \nL 1178 0 \nL 603 0 \nL 603 4863 \nz\n\" id=\"DejaVuSans-6c\" transform=\"scale(0.015625)\"/>\n       </defs>\n       <use xlink:href=\"#DejaVuSans-74\"/>\n       <use x=\"39.208984\" xlink:href=\"#DejaVuSans-68\"/>\n       <use x=\"102.587891\" xlink:href=\"#DejaVuSans-72\"/>\n       <use x=\"143.701172\" xlink:href=\"#DejaVuSans-69\"/>\n       <use x=\"171.484375\" xlink:href=\"#DejaVuSans-6c\"/>\n       <use x=\"199.267578\" xlink:href=\"#DejaVuSans-6c\"/>\n       <use x=\"227.050781\" xlink:href=\"#DejaVuSans-65\"/>\n       <use x=\"288.574219\" xlink:href=\"#DejaVuSans-72\"/>\n      </g>\n     </g>\n    </g>\n    <g id=\"xtick_10\">\n     <g id=\"line2d_10\">\n      <g>\n       <use style=\"stroke:#000000;stroke-width:0.8;\" x=\"215.189844\" xlink:href=\"#m74723ee243\" y=\"199.343125\"/>\n      </g>\n     </g>\n     <g id=\"text_10\">\n      <!-- crime -->\n      <g transform=\"translate(217.949219 234.624375)rotate(-90)scale(0.1 -0.1)\">\n       <use xlink:href=\"#DejaVuSans-63\"/>\n       <use x=\"54.980469\" xlink:href=\"#DejaVuSans-72\"/>\n       <use x=\"96.09375\" xlink:href=\"#DejaVuSans-69\"/>\n       <use x=\"123.876953\" xlink:href=\"#DejaVuSans-6d\"/>\n       <use x=\"221.289062\" xlink:href=\"#DejaVuSans-65\"/>\n      </g>\n     </g>\n    </g>\n    <g id=\"xtick_11\">\n     <g id=\"line2d_11\">\n      <g>\n       <use style=\"stroke:#000000;stroke-width:0.8;\" x=\"232.391406\" xlink:href=\"#m74723ee243\" y=\"199.343125\"/>\n      </g>\n     </g>\n     <g id=\"text_11\">\n      <!-- comedy -->\n      <g transform=\"translate(235.150781 246.12125)rotate(-90)scale(0.1 -0.1)\">\n       <use xlink:href=\"#DejaVuSans-63\"/>\n       <use x=\"54.980469\" xlink:href=\"#DejaVuSans-6f\"/>\n       <use x=\"116.162109\" xlink:href=\"#DejaVuSans-6d\"/>\n       <use x=\"213.574219\" xlink:href=\"#DejaVuSans-65\"/>\n       <use x=\"275.097656\" xlink:href=\"#DejaVuSans-64\"/>\n       <use x=\"338.574219\" xlink:href=\"#DejaVuSans-79\"/>\n      </g>\n     </g>\n    </g>\n    <g id=\"xtick_12\">\n     <g id=\"line2d_12\">\n      <g>\n       <use style=\"stroke:#000000;stroke-width:0.8;\" x=\"249.592967\" xlink:href=\"#m74723ee243\" y=\"199.343125\"/>\n      </g>\n     </g>\n     <g id=\"text_12\">\n      <!-- the asylum -->\n      <g transform=\"translate(252.352342 262.044688)rotate(-90)scale(0.1 -0.1)\">\n       <defs>\n        <path id=\"DejaVuSans-20\" transform=\"scale(0.015625)\"/>\n       </defs>\n       <use xlink:href=\"#DejaVuSans-74\"/>\n       <use x=\"39.208984\" xlink:href=\"#DejaVuSans-68\"/>\n       <use x=\"102.587891\" xlink:href=\"#DejaVuSans-65\"/>\n       <use x=\"164.111328\" xlink:href=\"#DejaVuSans-20\"/>\n       <use x=\"195.898438\" xlink:href=\"#DejaVuSans-61\"/>\n       <use x=\"257.177734\" xlink:href=\"#DejaVuSans-73\"/>\n       <use x=\"309.277344\" xlink:href=\"#DejaVuSans-79\"/>\n       <use x=\"368.457031\" xlink:href=\"#DejaVuSans-6c\"/>\n       <use x=\"396.240234\" xlink:href=\"#DejaVuSans-75\"/>\n       <use x=\"459.619141\" xlink:href=\"#DejaVuSans-6d\"/>\n      </g>\n     </g>\n    </g>\n    <g id=\"xtick_13\">\n     <g id=\"line2d_13\">\n      <g>\n       <use style=\"stroke:#000000;stroke-width:0.8;\" x=\"266.794528\" xlink:href=\"#m74723ee243\" y=\"199.343125\"/>\n      </g>\n     </g>\n     <g id=\"text_13\">\n      <!-- adventure -->\n      <g transform=\"translate(269.553903 257.525938)rotate(-90)scale(0.1 -0.1)\">\n       <defs>\n        <path d=\"M 191 3500 \nL 800 3500 \nL 1894 563 \nL 2988 3500 \nL 3597 3500 \nL 2284 0 \nL 1503 0 \nL 191 3500 \nz\n\" id=\"DejaVuSans-76\" transform=\"scale(0.015625)\"/>\n       </defs>\n       <use xlink:href=\"#DejaVuSans-61\"/>\n       <use x=\"61.279297\" xlink:href=\"#DejaVuSans-64\"/>\n       <use x=\"124.755859\" xlink:href=\"#DejaVuSans-76\"/>\n       <use x=\"183.935547\" xlink:href=\"#DejaVuSans-65\"/>\n       <use x=\"245.458984\" xlink:href=\"#DejaVuSans-6e\"/>\n       <use x=\"308.837891\" xlink:href=\"#DejaVuSans-74\"/>\n       <use x=\"348.046875\" xlink:href=\"#DejaVuSans-75\"/>\n       <use x=\"411.425781\" xlink:href=\"#DejaVuSans-72\"/>\n       <use x=\"450.289062\" xlink:href=\"#DejaVuSans-65\"/>\n      </g>\n     </g>\n    </g>\n    <g id=\"xtick_14\">\n     <g id=\"line2d_14\">\n      <g>\n       <use style=\"stroke:#000000;stroke-width:0.8;\" x=\"283.996089\" xlink:href=\"#m74723ee243\" y=\"199.343125\"/>\n      </g>\n     </g>\n     <g id=\"text_14\">\n      <!-- fantasy -->\n      <g transform=\"translate(286.755464 243.505625)rotate(-90)scale(0.1 -0.1)\">\n       <use xlink:href=\"#DejaVuSans-66\"/>\n       <use x=\"35.205078\" xlink:href=\"#DejaVuSans-61\"/>\n       <use x=\"96.484375\" xlink:href=\"#DejaVuSans-6e\"/>\n       <use x=\"159.863281\" xlink:href=\"#DejaVuSans-74\"/>\n       <use x=\"199.072266\" xlink:href=\"#DejaVuSans-61\"/>\n       <use x=\"260.351562\" xlink:href=\"#DejaVuSans-73\"/>\n       <use x=\"312.451172\" xlink:href=\"#DejaVuSans-79\"/>\n      </g>\n     </g>\n    </g>\n    <g id=\"xtick_15\">\n     <g id=\"line2d_15\">\n      <g>\n       <use style=\"stroke:#000000;stroke-width:0.8;\" x=\"301.19765\" xlink:href=\"#m74723ee243\" y=\"199.343125\"/>\n      </g>\n     </g>\n     <g id=\"text_15\">\n      <!-- mystery -->\n      <g transform=\"translate(303.957025 247.315)rotate(-90)scale(0.1 -0.1)\">\n       <use xlink:href=\"#DejaVuSans-6d\"/>\n       <use x=\"97.412109\" xlink:href=\"#DejaVuSans-79\"/>\n       <use x=\"156.591797\" xlink:href=\"#DejaVuSans-73\"/>\n       <use x=\"208.691406\" xlink:href=\"#DejaVuSans-74\"/>\n       <use x=\"247.900391\" xlink:href=\"#DejaVuSans-65\"/>\n       <use x=\"309.423828\" xlink:href=\"#DejaVuSans-72\"/>\n       <use x=\"350.537109\" xlink:href=\"#DejaVuSans-79\"/>\n      </g>\n     </g>\n    </g>\n    <g id=\"xtick_16\">\n     <g id=\"line2d_16\">\n      <g>\n       <use style=\"stroke:#000000;stroke-width:0.8;\" x=\"318.399211\" xlink:href=\"#m74723ee243\" y=\"199.343125\"/>\n      </g>\n     </g>\n     <g id=\"text_16\">\n      <!-- short -->\n      <g transform=\"translate(321.158586 232.04)rotate(-90)scale(0.1 -0.1)\">\n       <use xlink:href=\"#DejaVuSans-73\"/>\n       <use x=\"52.099609\" xlink:href=\"#DejaVuSans-68\"/>\n       <use x=\"115.478516\" xlink:href=\"#DejaVuSans-6f\"/>\n       <use x=\"176.660156\" xlink:href=\"#DejaVuSans-72\"/>\n       <use x=\"217.773438\" xlink:href=\"#DejaVuSans-74\"/>\n      </g>\n     </g>\n    </g>\n    <g id=\"xtick_17\">\n     <g id=\"line2d_17\">\n      <g>\n       <use style=\"stroke:#000000;stroke-width:0.8;\" x=\"335.600772\" xlink:href=\"#m74723ee243\" y=\"199.343125\"/>\n      </g>\n     </g>\n     <g id=\"text_17\">\n      <!-- biography -->\n      <g transform=\"translate(338.360147 256.780625)rotate(-90)scale(0.1 -0.1)\">\n       <defs>\n        <path d=\"M 1159 525 \nL 1159 -1331 \nL 581 -1331 \nL 581 3500 \nL 1159 3500 \nL 1159 2969 \nQ 1341 3281 1617 3432 \nQ 1894 3584 2278 3584 \nQ 2916 3584 3314 3078 \nQ 3713 2572 3713 1747 \nQ 3713 922 3314 415 \nQ 2916 -91 2278 -91 \nQ 1894 -91 1617 61 \nQ 1341 213 1159 525 \nz\nM 3116 1747 \nQ 3116 2381 2855 2742 \nQ 2594 3103 2138 3103 \nQ 1681 3103 1420 2742 \nQ 1159 2381 1159 1747 \nQ 1159 1113 1420 752 \nQ 1681 391 2138 391 \nQ 2594 391 2855 752 \nQ 3116 1113 3116 1747 \nz\n\" id=\"DejaVuSans-70\" transform=\"scale(0.015625)\"/>\n       </defs>\n       <use xlink:href=\"#DejaVuSans-62\"/>\n       <use x=\"63.476562\" xlink:href=\"#DejaVuSans-69\"/>\n       <use x=\"91.259766\" xlink:href=\"#DejaVuSans-6f\"/>\n       <use x=\"152.441406\" xlink:href=\"#DejaVuSans-67\"/>\n       <use x=\"215.917969\" xlink:href=\"#DejaVuSans-72\"/>\n       <use x=\"257.03125\" xlink:href=\"#DejaVuSans-61\"/>\n       <use x=\"318.310547\" xlink:href=\"#DejaVuSans-70\"/>\n       <use x=\"381.787109\" xlink:href=\"#DejaVuSans-68\"/>\n       <use x=\"445.166016\" xlink:href=\"#DejaVuSans-79\"/>\n      </g>\n     </g>\n    </g>\n    <g id=\"xtick_18\">\n     <g id=\"line2d_18\">\n      <g>\n       <use style=\"stroke:#000000;stroke-width:0.8;\" x=\"352.802333\" xlink:href=\"#m74723ee243\" y=\"199.343125\"/>\n      </g>\n     </g>\n     <g id=\"text_18\">\n      <!-- family -->\n      <g transform=\"translate(355.561708 237.207188)rotate(-90)scale(0.1 -0.1)\">\n       <use xlink:href=\"#DejaVuSans-66\"/>\n       <use x=\"35.205078\" xlink:href=\"#DejaVuSans-61\"/>\n       <use x=\"96.484375\" xlink:href=\"#DejaVuSans-6d\"/>\n       <use x=\"193.896484\" xlink:href=\"#DejaVuSans-69\"/>\n       <use x=\"221.679688\" xlink:href=\"#DejaVuSans-6c\"/>\n       <use x=\"249.462891\" xlink:href=\"#DejaVuSans-79\"/>\n      </g>\n     </g>\n    </g>\n    <g id=\"xtick_19\">\n     <g id=\"line2d_19\">\n      <g>\n       <use style=\"stroke:#000000;stroke-width:0.8;\" x=\"370.003894\" xlink:href=\"#m74723ee243\" y=\"199.343125\"/>\n      </g>\n     </g>\n     <g id=\"text_19\">\n      <!-- romance -->\n      <g transform=\"translate(372.763269 250.205625)rotate(-90)scale(0.1 -0.1)\">\n       <use xlink:href=\"#DejaVuSans-72\"/>\n       <use x=\"38.863281\" xlink:href=\"#DejaVuSans-6f\"/>\n       <use x=\"100.044922\" xlink:href=\"#DejaVuSans-6d\"/>\n       <use x=\"197.457031\" xlink:href=\"#DejaVuSans-61\"/>\n       <use x=\"258.736328\" xlink:href=\"#DejaVuSans-6e\"/>\n       <use x=\"322.115234\" xlink:href=\"#DejaVuSans-63\"/>\n       <use x=\"377.095703\" xlink:href=\"#DejaVuSans-65\"/>\n      </g>\n     </g>\n    </g>\n    <g id=\"xtick_20\">\n     <g id=\"line2d_20\">\n      <g>\n       <use style=\"stroke:#000000;stroke-width:0.8;\" x=\"387.205455\" xlink:href=\"#m74723ee243\" y=\"199.343125\"/>\n      </g>\n     </g>\n     <g id=\"text_20\">\n      <!-- woody allen -->\n      <g transform=\"translate(389.96483 266.379063)rotate(-90)scale(0.1 -0.1)\">\n       <defs>\n        <path d=\"M 269 3500 \nL 844 3500 \nL 1563 769 \nL 2278 3500 \nL 2956 3500 \nL 3675 769 \nL 4391 3500 \nL 4966 3500 \nL 4050 0 \nL 3372 0 \nL 2619 2869 \nL 1863 0 \nL 1184 0 \nL 269 3500 \nz\n\" id=\"DejaVuSans-77\" transform=\"scale(0.015625)\"/>\n       </defs>\n       <use xlink:href=\"#DejaVuSans-77\"/>\n       <use x=\"81.787109\" xlink:href=\"#DejaVuSans-6f\"/>\n       <use x=\"142.96875\" xlink:href=\"#DejaVuSans-6f\"/>\n       <use x=\"204.150391\" xlink:href=\"#DejaVuSans-64\"/>\n       <use x=\"267.626953\" xlink:href=\"#DejaVuSans-79\"/>\n       <use x=\"326.806641\" xlink:href=\"#DejaVuSans-20\"/>\n       <use x=\"358.59375\" xlink:href=\"#DejaVuSans-61\"/>\n       <use x=\"419.873047\" xlink:href=\"#DejaVuSans-6c\"/>\n       <use x=\"447.65625\" xlink:href=\"#DejaVuSans-6c\"/>\n       <use x=\"475.439453\" xlink:href=\"#DejaVuSans-65\"/>\n       <use x=\"536.962891\" xlink:href=\"#DejaVuSans-6e\"/>\n      </g>\n     </g>\n    </g>\n   </g>\n   <g id=\"matplotlib.axis_2\">\n    <g id=\"ytick_1\">\n     <g id=\"line2d_21\">\n      <defs>\n       <path d=\"M 0 0 \nL -3.5 0 \n\" id=\"m6fc8681e2e\" style=\"stroke:#000000;stroke-width:0.8;\"/>\n      </defs>\n      <g>\n       <use style=\"stroke:#000000;stroke-width:0.8;\" x=\"36.465625\" xlink:href=\"#m6fc8681e2e\" y=\"199.343125\"/>\n      </g>\n     </g>\n     <g id=\"text_21\">\n      <!-- 0.00 -->\n      <g transform=\"translate(7.2 203.142344)scale(0.1 -0.1)\">\n       <defs>\n        <path d=\"M 2034 4250 \nQ 1547 4250 1301 3770 \nQ 1056 3291 1056 2328 \nQ 1056 1369 1301 889 \nQ 1547 409 2034 409 \nQ 2525 409 2770 889 \nQ 3016 1369 3016 2328 \nQ 3016 3291 2770 3770 \nQ 2525 4250 2034 4250 \nz\nM 2034 4750 \nQ 2819 4750 3233 4129 \nQ 3647 3509 3647 2328 \nQ 3647 1150 3233 529 \nQ 2819 -91 2034 -91 \nQ 1250 -91 836 529 \nQ 422 1150 422 2328 \nQ 422 3509 836 4129 \nQ 1250 4750 2034 4750 \nz\n\" id=\"DejaVuSans-30\" transform=\"scale(0.015625)\"/>\n        <path d=\"M 684 794 \nL 1344 794 \nL 1344 0 \nL 684 0 \nL 684 794 \nz\n\" id=\"DejaVuSans-2e\" transform=\"scale(0.015625)\"/>\n       </defs>\n       <use xlink:href=\"#DejaVuSans-30\"/>\n       <use x=\"63.623047\" xlink:href=\"#DejaVuSans-2e\"/>\n       <use x=\"95.410156\" xlink:href=\"#DejaVuSans-30\"/>\n       <use x=\"159.033203\" xlink:href=\"#DejaVuSans-30\"/>\n      </g>\n     </g>\n    </g>\n    <g id=\"ytick_2\">\n     <g id=\"line2d_22\">\n      <g>\n       <use style=\"stroke:#000000;stroke-width:0.8;\" x=\"36.465625\" xlink:href=\"#m6fc8681e2e\" y=\"159.733222\"/>\n      </g>\n     </g>\n     <g id=\"text_22\">\n      <!-- 0.05 -->\n      <g transform=\"translate(7.2 163.53244)scale(0.1 -0.1)\">\n       <defs>\n        <path d=\"M 691 4666 \nL 3169 4666 \nL 3169 4134 \nL 1269 4134 \nL 1269 2991 \nQ 1406 3038 1543 3061 \nQ 1681 3084 1819 3084 \nQ 2600 3084 3056 2656 \nQ 3513 2228 3513 1497 \nQ 3513 744 3044 326 \nQ 2575 -91 1722 -91 \nQ 1428 -91 1123 -41 \nQ 819 9 494 109 \nL 494 744 \nQ 775 591 1075 516 \nQ 1375 441 1709 441 \nQ 2250 441 2565 725 \nQ 2881 1009 2881 1497 \nQ 2881 1984 2565 2268 \nQ 2250 2553 1709 2553 \nQ 1456 2553 1204 2497 \nQ 953 2441 691 2322 \nL 691 4666 \nz\n\" id=\"DejaVuSans-35\" transform=\"scale(0.015625)\"/>\n       </defs>\n       <use xlink:href=\"#DejaVuSans-30\"/>\n       <use x=\"63.623047\" xlink:href=\"#DejaVuSans-2e\"/>\n       <use x=\"95.410156\" xlink:href=\"#DejaVuSans-30\"/>\n       <use x=\"159.033203\" xlink:href=\"#DejaVuSans-35\"/>\n      </g>\n     </g>\n    </g>\n    <g id=\"ytick_3\">\n     <g id=\"line2d_23\">\n      <g>\n       <use style=\"stroke:#000000;stroke-width:0.8;\" x=\"36.465625\" xlink:href=\"#m6fc8681e2e\" y=\"120.123318\"/>\n      </g>\n     </g>\n     <g id=\"text_23\">\n      <!-- 0.10 -->\n      <g transform=\"translate(7.2 123.922537)scale(0.1 -0.1)\">\n       <defs>\n        <path d=\"M 794 531 \nL 1825 531 \nL 1825 4091 \nL 703 3866 \nL 703 4441 \nL 1819 4666 \nL 2450 4666 \nL 2450 531 \nL 3481 531 \nL 3481 0 \nL 794 0 \nL 794 531 \nz\n\" id=\"DejaVuSans-31\" transform=\"scale(0.015625)\"/>\n       </defs>\n       <use xlink:href=\"#DejaVuSans-30\"/>\n       <use x=\"63.623047\" xlink:href=\"#DejaVuSans-2e\"/>\n       <use x=\"95.410156\" xlink:href=\"#DejaVuSans-31\"/>\n       <use x=\"159.033203\" xlink:href=\"#DejaVuSans-30\"/>\n      </g>\n     </g>\n    </g>\n    <g id=\"ytick_4\">\n     <g id=\"line2d_24\">\n      <g>\n       <use style=\"stroke:#000000;stroke-width:0.8;\" x=\"36.465625\" xlink:href=\"#m6fc8681e2e\" y=\"80.513415\"/>\n      </g>\n     </g>\n     <g id=\"text_24\">\n      <!-- 0.15 -->\n      <g transform=\"translate(7.2 84.312634)scale(0.1 -0.1)\">\n       <use xlink:href=\"#DejaVuSans-30\"/>\n       <use x=\"63.623047\" xlink:href=\"#DejaVuSans-2e\"/>\n       <use x=\"95.410156\" xlink:href=\"#DejaVuSans-31\"/>\n       <use x=\"159.033203\" xlink:href=\"#DejaVuSans-35\"/>\n      </g>\n     </g>\n    </g>\n    <g id=\"ytick_5\">\n     <g id=\"line2d_25\">\n      <g>\n       <use style=\"stroke:#000000;stroke-width:0.8;\" x=\"36.465625\" xlink:href=\"#m6fc8681e2e\" y=\"40.903511\"/>\n      </g>\n     </g>\n     <g id=\"text_25\">\n      <!-- 0.20 -->\n      <g transform=\"translate(7.2 44.70273)scale(0.1 -0.1)\">\n       <defs>\n        <path d=\"M 1228 531 \nL 3431 531 \nL 3431 0 \nL 469 0 \nL 469 531 \nQ 828 903 1448 1529 \nQ 2069 2156 2228 2338 \nQ 2531 2678 2651 2914 \nQ 2772 3150 2772 3378 \nQ 2772 3750 2511 3984 \nQ 2250 4219 1831 4219 \nQ 1534 4219 1204 4116 \nQ 875 4013 500 3803 \nL 500 4441 \nQ 881 4594 1212 4672 \nQ 1544 4750 1819 4750 \nQ 2544 4750 2975 4387 \nQ 3406 4025 3406 3419 \nQ 3406 3131 3298 2873 \nQ 3191 2616 2906 2266 \nQ 2828 2175 2409 1742 \nQ 1991 1309 1228 531 \nz\n\" id=\"DejaVuSans-32\" transform=\"scale(0.015625)\"/>\n       </defs>\n       <use xlink:href=\"#DejaVuSans-30\"/>\n       <use x=\"63.623047\" xlink:href=\"#DejaVuSans-2e\"/>\n       <use x=\"95.410156\" xlink:href=\"#DejaVuSans-32\"/>\n       <use x=\"159.033203\" xlink:href=\"#DejaVuSans-30\"/>\n      </g>\n     </g>\n    </g>\n   </g>\n   <g id=\"patch_23\">\n    <path d=\"M 36.465625 199.343125 \nL 36.465625 22.318125 \n\" style=\"fill:none;stroke:#000000;stroke-linecap:square;stroke-linejoin:miter;stroke-width:0.8;\"/>\n   </g>\n   <g id=\"patch_24\">\n    <path d=\"M 411.115625 199.343125 \nL 411.115625 22.318125 \n\" style=\"fill:none;stroke:#000000;stroke-linecap:square;stroke-linejoin:miter;stroke-width:0.8;\"/>\n   </g>\n   <g id=\"patch_25\">\n    <path d=\"M 36.465625 199.343125 \nL 411.115625 199.343125 \n\" style=\"fill:none;stroke:#000000;stroke-linecap:square;stroke-linejoin:miter;stroke-width:0.8;\"/>\n   </g>\n   <g id=\"patch_26\">\n    <path d=\"M 36.465625 22.318125 \nL 411.115625 22.318125 \n\" style=\"fill:none;stroke:#000000;stroke-linecap:square;stroke-linejoin:miter;stroke-width:0.8;\"/>\n   </g>\n   <g id=\"text_26\">\n    <!-- Feature importances -->\n    <g transform=\"translate(161.809687 16.318125)scale(0.12 -0.12)\">\n     <defs>\n      <path d=\"M 628 4666 \nL 3309 4666 \nL 3309 4134 \nL 1259 4134 \nL 1259 2759 \nL 3109 2759 \nL 3109 2228 \nL 1259 2228 \nL 1259 0 \nL 628 0 \nL 628 4666 \nz\n\" id=\"DejaVuSans-46\" transform=\"scale(0.015625)\"/>\n     </defs>\n     <use xlink:href=\"#DejaVuSans-46\"/>\n     <use x=\"52.019531\" xlink:href=\"#DejaVuSans-65\"/>\n     <use x=\"113.542969\" xlink:href=\"#DejaVuSans-61\"/>\n     <use x=\"174.822266\" xlink:href=\"#DejaVuSans-74\"/>\n     <use x=\"214.03125\" xlink:href=\"#DejaVuSans-75\"/>\n     <use x=\"277.410156\" xlink:href=\"#DejaVuSans-72\"/>\n     <use x=\"316.273438\" xlink:href=\"#DejaVuSans-65\"/>\n     <use x=\"377.796875\" xlink:href=\"#DejaVuSans-20\"/>\n     <use x=\"409.583984\" xlink:href=\"#DejaVuSans-69\"/>\n     <use x=\"437.367188\" xlink:href=\"#DejaVuSans-6d\"/>\n     <use x=\"534.779297\" xlink:href=\"#DejaVuSans-70\"/>\n     <use x=\"598.255859\" xlink:href=\"#DejaVuSans-6f\"/>\n     <use x=\"659.4375\" xlink:href=\"#DejaVuSans-72\"/>\n     <use x=\"700.550781\" xlink:href=\"#DejaVuSans-74\"/>\n     <use x=\"739.759766\" xlink:href=\"#DejaVuSans-61\"/>\n     <use x=\"801.039062\" xlink:href=\"#DejaVuSans-6e\"/>\n     <use x=\"864.417969\" xlink:href=\"#DejaVuSans-63\"/>\n     <use x=\"919.398438\" xlink:href=\"#DejaVuSans-65\"/>\n     <use x=\"980.921875\" xlink:href=\"#DejaVuSans-73\"/>\n    </g>\n   </g>\n  </g>\n </g>\n <defs>\n  <clipPath id=\"pbc35551861\">\n   <rect height=\"177.025\" width=\"374.65\" x=\"36.465625\" y=\"22.318125\"/>\n  </clipPath>\n </defs>\n</svg>\n",
      "image/png": "[encoded data removed]"
     },
     "metadata": {
      "needs_background": "light"
     }
    }
   ],
   "metadata": {}
  },
  {
   "cell_type": "markdown",
   "source": [
    "# XGBoost (eXtreme Gradient Boosting)"
   ],
   "metadata": {}
  },
  {
   "cell_type": "code",
   "execution_count": 34,
   "source": [
    "xgbRegression = xgb.XGBRegressor(objective='reg:squarederror').fit(X_train, train_data['IMDB Score'])"
   ],
   "outputs": [],
   "metadata": {}
  },
  {
   "cell_type": "code",
   "execution_count": 35,
   "source": [
    "print('train R^2: ', xgbRegression.score(X_train, train_data['IMDB Score']))\n",
    "print('test R^2: ', xgbRegression.score(X_test, test_data['IMDB Score']))\n",
    "\n",
    "print('train MAE: ', mean_absolute_error(xgbRegression.predict(X_train), train_data['IMDB Score']))\n",
    "print('test MAE: ', mean_absolute_error(xgbRegression.predict(X_test), test_data['IMDB Score']))\n",
    "\n",
    "print('train MSE: ', mean_squared_error(xgbRegression.predict(X_train), train_data['IMDB Score']))\n",
    "print('test MSE: ', mean_squared_error(xgbRegression.predict(X_test), test_data['IMDB Score']))"
   ],
   "outputs": [
    {
     "output_type": "stream",
     "name": "stdout",
     "text": [
      "train R^2:  0.5674401301819887\n",
      "test R^2:  0.4355463606452872\n",
      "train MAE:  0.5913678678131937\n",
      "test MAE:  0.6716326508373056\n",
      "train MSE:  0.5946751113596823\n",
      "test MSE:  0.7730511144064957\n"
     ]
    }
   ],
   "metadata": {}
  },
  {
   "cell_type": "code",
   "execution_count": null,
   "source": [],
   "outputs": [],
   "metadata": {}
  }
 ],
 "metadata": {
  "orig_nbformat": 4,
  "language_info": {
   "name": "python",
   "version": "3.7.11",
   "mimetype": "text/x-python",
   "codemirror_mode": {
    "name": "ipython",
    "version": 3
   },
   "pygments_lexer": "ipython3",
   "nbconvert_exporter": "python",
   "file_extension": ".py"
  },
  "kernelspec": {
   "name": "python3",
   "display_name": "Python 3.7.11 64-bit ('base': conda)"
  },
  "interpreter": {
   "hash": "44e4baef8aa2bfdee458aa519960f936f36d6c605b940cfa7e03f66b68608407"
  }
 },
 "nbformat": 4,
 "nbformat_minor": 2
}