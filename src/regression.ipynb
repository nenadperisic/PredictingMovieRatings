{
 "cells": [
  {
   "cell_type": "code",
   "execution_count": 3,
   "source": [
    "import pandas as pd\n",
    "import numpy as np\n",
    "import xgboost as xgb\n",
    "import matplotlib.pyplot as plt\n",
    "from sklearn.metrics import mean_squared_error\n",
    "from sklearn.linear_model import LinearRegression\n",
    "from sklearn.linear_model import Ridge\n",
    "from sklearn.linear_model import Lasso\n",
    "from sklearn.ensemble import RandomForestRegressor"
   ],
   "outputs": [],
   "metadata": {}
  },
  {
   "cell_type": "markdown",
   "source": [
    "# Linear regression"
   ],
   "metadata": {}
  },
  {
   "cell_type": "code",
   "execution_count": 4,
   "source": [
    "train_data = pd.read_csv('../data/train_final.csv')\n",
    "train_data = train_data.drop(columns = ['Genre', 'actors', 'director', 'companies', 'overview'])\n",
    "train_X = train_data.drop(columns=['IMDB Score'])\n",
    "print(np.cov(train_data['IMDB Score']))"
   ],
   "outputs": [
    {
     "output_type": "stream",
     "name": "stdout",
     "text": [
      "1.233149386602954\n"
     ]
    }
   ],
   "metadata": {}
  },
  {
   "cell_type": "code",
   "execution_count": 9,
   "source": [
    "linearRegression = LinearRegression().fit(train_X, train_data['IMDB Score'])"
   ],
   "outputs": [
    {
     "output_type": "stream",
     "name": "stdout",
     "text": [
      "Traint R^2:  0.5250735994460494\n"
     ]
    }
   ],
   "metadata": {}
  },
  {
   "cell_type": "code",
   "execution_count": 5,
   "source": [
    "valid_data = pd.read_csv('../data/valid_final.csv')\n",
    "valid_data = valid_data.drop(columns = ['Genre', 'actors', 'director', 'companies', 'overview'])\n",
    "valid_X = valid_data.drop(columns=['IMDB Score'])\n",
    "print(np.cov(valid_data['IMDB Score']))"
   ],
   "outputs": [
    {
     "output_type": "stream",
     "name": "stdout",
     "text": [
      "1.262665405232249\n"
     ]
    }
   ],
   "metadata": {}
  },
  {
   "cell_type": "code",
   "execution_count": 6,
   "source": [
    "test_data = pd.read_csv('../data/test_final.csv')\n",
    "test_data = test_data.drop(columns = ['Genre', 'actors', 'director', 'companies', 'overview'])\n",
    "test_X = test_data.drop(columns=['IMDB Score'])\n",
    "print(np.cov(test_data['IMDB Score']))"
   ],
   "outputs": [
    {
     "output_type": "stream",
     "name": "stdout",
     "text": [
      "1.2621754170154778\n"
     ]
    }
   ],
   "metadata": {}
  },
  {
   "cell_type": "code",
   "execution_count": 20,
   "source": [
    "print('train R^2: ', linearRegression.score(train_X, train_data['IMDB Score']))\n",
    "print('train MSE: ', mean_squared_error(linearRegression.predict(train_X), train_data['IMDB Score']))\n",
    "\n",
    "print('valid R^2: ', linearRegression.score(valid_X, valid_data['IMDB Score']))\n",
    "print('valid MSE: ', mean_squared_error(linearRegression.predict(valid_X), valid_data['IMDB Score']))\n",
    "\n",
    "print('test R^2: ', linearRegression.score(test_X, test_data['IMDB Score']))\n",
    "print('test MSE: ', mean_squared_error(linearRegression.predict(test_X), test_data['IMDB Score']))"
   ],
   "outputs": [
    {
     "output_type": "stream",
     "name": "stdout",
     "text": [
      "train R^2:  0.5250735994460494\n",
      "train MSE:  0.5856246441325994\n",
      "valid R^2:  0.3858524539381154\n",
      "valid MSE:  0.7752740452045943\n",
      "test R^2:  0.3464380156471152\n",
      "test MSE:  0.8247090644327882\n"
     ]
    }
   ],
   "metadata": {}
  },
  {
   "cell_type": "markdown",
   "source": [
    "# Ridge regression"
   ],
   "metadata": {}
  },
  {
   "cell_type": "code",
   "execution_count": 22,
   "source": [
    "ridgeRegression = Ridge(alpha = 10, random_state = 0).fit(train_X, train_data['IMDB Score'])\n",
    "\n",
    "print('Train R^2: ', ridgeRegression.score(train_X, train_data['IMDB Score']))\n",
    "print('Train MSE: ', mean_squared_error(ridgeRegression.predict(train_X), train_data['IMDB Score']))\n",
    "\n",
    "print('Valid R^2: ', ridgeRegression.score(valid_X, valid_data['IMDB Score']))\n",
    "print('Valid MSE: ', mean_squared_error(ridgeRegression.predict(valid_X), valid_data['IMDB Score']))\n",
    "\n",
    "print('Test R^2: ', ridgeRegression.score(test_X, test_data['IMDB Score']))\n",
    "print('Test MSE: ', mean_squared_error(ridgeRegression.predict(test_X), test_data['IMDB Score']))"
   ],
   "outputs": [
    {
     "output_type": "stream",
     "name": "stderr",
     "text": [
      "/home/shone/anaconda3/lib/python3.7/site-packages/sklearn/linear_model/_ridge.py:148: LinAlgWarning: Ill-conditioned matrix (rcond=5.80651e-19): result may not be accurate.\n",
      "  overwrite_a=True).T\n"
     ]
    },
    {
     "output_type": "stream",
     "name": "stdout",
     "text": [
      "Train R^2:  0.46215167314368266\n",
      "Train MSE:  0.6632127307413479\n",
      "Valid R^2:  0.40788176067345416\n",
      "Valid MSE:  0.7474651744287141\n",
      "Test R^2:  0.38127772069100907\n",
      "Test MSE:  0.7807459496253791\n"
     ]
    }
   ],
   "metadata": {}
  },
  {
   "cell_type": "markdown",
   "source": [
    "# Lasso (Least Absolute Shrinkage and Selection Operator)"
   ],
   "metadata": {}
  },
  {
   "cell_type": "code",
   "execution_count": 26,
   "source": [
    "lassoRegression = Lasso(alpha=0.01, random_state=0).fit(train_X, train_data['IMDB Score'])"
   ],
   "outputs": [],
   "metadata": {}
  },
  {
   "cell_type": "code",
   "execution_count": 27,
   "source": [
    "print('train R^2: ', lassoRegression.score(train_X, train_data['IMDB Score']))\n",
    "print('train MSE: ', mean_squared_error(lassoRegression.predict(train_X), train_data['IMDB Score']))\n",
    "\n",
    "print('valid R^2: ', lassoRegression.score(valid_X, valid_data['IMDB Score']))\n",
    "print('valid MSE: ', mean_squared_error(lassoRegression.predict(valid_X), valid_data['IMDB Score']))\n",
    "\n",
    "print('test R^2: ', lassoRegression.score(test_X, test_data['IMDB Score']))\n",
    "print('test MSE: ', mean_squared_error(lassoRegression.predict(test_X), test_data['IMDB Score']))"
   ],
   "outputs": [
    {
     "output_type": "stream",
     "name": "stdout",
     "text": [
      "train R^2:  0.24124394121505233\n",
      "train MSE:  0.935610752299949\n",
      "valid R^2:  0.25224877036233595\n",
      "valid MSE:  0.9439297190474919\n",
      "test R^2:  0.2353809215075876\n",
      "test MSE:  0.9648484764537005\n"
     ]
    }
   ],
   "metadata": {}
  },
  {
   "cell_type": "markdown",
   "source": [
    "# Random forest regression"
   ],
   "metadata": {}
  },
  {
   "cell_type": "code",
   "execution_count": 31,
   "source": [
    "RandomForestReg = RandomForestRegressor(n_estimators=100, max_depth=32).fit(train_X, train_data['IMDB Score'])"
   ],
   "outputs": [],
   "metadata": {}
  },
  {
   "cell_type": "code",
   "execution_count": 32,
   "source": [
    "print('train R^2: ', RandomForestReg.score(train_X, train_data['IMDB Score']))\n",
    "print('train MSE: ', mean_squared_error(RandomForestReg.predict(train_X), train_data['IMDB Score']))\n",
    "\n",
    "print('valid R^2: ', RandomForestReg.score(valid_X, valid_data['IMDB Score']))\n",
    "print('valid MSE: ', mean_squared_error(RandomForestReg.predict(valid_X), valid_data['IMDB Score']))\n",
    "\n",
    "print('test R^2: ', RandomForestReg.score(test_X, test_data['IMDB Score']))\n",
    "print('test MSE: ', mean_squared_error(RandomForestReg.predict(test_X), test_data['IMDB Score']))"
   ],
   "outputs": [
    {
     "output_type": "stream",
     "name": "stdout",
     "text": [
      "train R^2:  0.6755627852541064\n",
      "train MSE:  0.40005867900231057\n",
      "valid R^2:  0.3662939600097972\n",
      "valid MSE:  0.7999638657585445\n",
      "test R^2:  0.3465485818625439\n",
      "test MSE:  0.8245695444449873\n"
     ]
    }
   ],
   "metadata": {}
  },
  {
   "cell_type": "code",
   "execution_count": 42,
   "source": [
    "featureImportances = np.argsort(RandomForestReg.feature_importances_)[::-1]\n",
    "print(train_X.columns[featureImportances[:20]])\n",
    "plt.figure()\n",
    "plt.title(\"Feature importances\")\n",
    "plt.bar(range(20),RandomForestReg.feature_importances_[featureImportances[:20]])\n",
    "plt.xticks(range(20), train_X.columns[featureImportances[:20]], rotation='vertical')\n",
    "plt.tight_layout()\n",
    "plt.savefig('../data/randomforest.png')\n",
    "plt.show()"
   ],
   "outputs": [
    {
     "output_type": "stream",
     "name": "stdout",
     "text": [
      "Index(['runtime', 'horror', 'drama', 'budget', 'action', 'documentary',\n",
      "       'animation', 'sci-fi', 'thriller', 'comedy', 'fantasy', 'the asylum',\n",
      "       'crime', 'adventure', 'mystery', 'mosfilm', 'short', 'romance',\n",
      "       'family', 'universal pictures'],\n",
      "      dtype='object')\n"
     ]
    },
    {
     "output_type": "display_data",
     "data": {
      "text/plain": [
       "<Figure size 432x288 with 1 Axes>"
      ],
      "image/png": "[encoded data removed]"
     },
     "metadata": {
      "needs_background": "light"
     }
    }
   ],
   "metadata": {}
  },
  {
   "cell_type": "markdown",
   "source": [
    "# XGBoost (eXreme Gradient Boosting)"
   ],
   "metadata": {}
  },
  {
   "cell_type": "code",
   "execution_count": 7,
   "source": [
    "xgbRegression = xgb.XGBRegressor(objective='reg:squarederror').fit(train_X, train_data['IMDB Score'])"
   ],
   "outputs": [],
   "metadata": {}
  },
  {
   "cell_type": "code",
   "execution_count": 8,
   "source": [
    "print('train R^2: ', xgbRegression.score(train_X, train_data['IMDB Score']))\n",
    "print('train MSE: ', mean_squared_error(xgbRegression.predict(train_X), train_data['IMDB Score']))\n",
    "\n",
    "print('valid R^2: ', xgbRegression.score(valid_X, valid_data['IMDB Score']))\n",
    "print('valid MSE: ', mean_squared_error(xgbRegression.predict(valid_X), valid_data['IMDB Score']))\n",
    "\n",
    "print('test R^2: ', xgbRegression.score(test_X, test_data['IMDB Score']))\n",
    "print('test MSE: ', mean_squared_error(xgbRegression.predict(test_X), test_data['IMDB Score']))"
   ],
   "outputs": [
    {
     "output_type": "stream",
     "name": "stdout",
     "text": [
      "train R^2:  0.4859770114154863\n",
      "train MSE:  0.6338340623192735\n",
      "valid R^2:  0.3953081272777693\n",
      "valid MSE:  0.7633376006691178\n",
      "test R^2:  0.3699303945074095\n",
      "test MSE:  0.7950647793381508\n"
     ]
    }
   ],
   "metadata": {}
  },
  {
   "cell_type": "code",
   "execution_count": null,
   "source": [],
   "outputs": [],
   "metadata": {}
  }
 ],
 "metadata": {
  "orig_nbformat": 4,
  "language_info": {
   "name": "python",
   "version": "3.7.3",
   "mimetype": "text/x-python",
   "codemirror_mode": {
    "name": "ipython",
    "version": 3
   },
   "pygments_lexer": "ipython3",
   "nbconvert_exporter": "python",
   "file_extension": ".py"
  },
  "kernelspec": {
   "name": "python3",
   "display_name": "Python 3.7.3 64-bit ('base': conda)"
  },
  "interpreter": {
   "hash": "44e4baef8aa2bfdee458aa519960f936f36d6c605b940cfa7e03f66b68608407"
  }
 },
 "nbformat": 4,
 "nbformat_minor": 2
}