{
 "cells": [
  {
   "cell_type": "code",
   "execution_count": 1,
   "source": [
    "import pandas as pd\n",
    "import numpy as np\n",
    "import matplotlib.pyplot as plt"
   ],
   "outputs": [],
   "metadata": {}
  },
  {
   "cell_type": "code",
   "execution_count": 2,
   "source": [
    "train_data = pd.read_csv('../data/train_final.csv')\n",
    "train_data = train_data.drop(columns = ['Genre', 'actors', 'director', 'companies', 'overview'])\n",
    "train_X = train_data.drop(columns=['IMDB Score'])\n",
    "print(np.cov(train_data['IMDB Score']))"
   ],
   "outputs": [
    {
     "output_type": "stream",
     "name": "stdout",
     "text": [
      "1.3749116441929752\n"
     ]
    }
   ],
   "metadata": {}
  },
  {
   "cell_type": "code",
   "execution_count": 3,
   "source": [
    "# valid_data = pd.read_csv('../data/valid_final.csv')\n",
    "# valid_data = valid_data.drop(columns = ['Genre', 'actors', 'director', 'companies', 'overview'])\n",
    "# valid_X = valid_data.drop(columns=['IMDB Score'])\n",
    "# print(np.cov(valid_data['IMDB Score']))"
   ],
   "outputs": [
    {
     "output_type": "stream",
     "name": "stdout",
     "text": [
      "1.3261752115079182\n"
     ]
    }
   ],
   "metadata": {}
  },
  {
   "cell_type": "code",
   "execution_count": 4,
   "source": [
    "test_data = pd.read_csv('../data/test_final.csv')\n",
    "test_data = test_data.drop(columns = ['Genre', 'actors', 'director', 'companies', 'overview'])\n",
    "test_X = test_data.drop(columns=['IMDB Score'])\n",
    "print(np.cov(test_data['IMDB Score']))"
   ],
   "outputs": [
    {
     "output_type": "stream",
     "name": "stdout",
     "text": [
      "1.414101153385683\n"
     ]
    }
   ],
   "metadata": {}
  },
  {
   "cell_type": "code",
   "execution_count": null,
   "source": [],
   "outputs": [],
   "metadata": {}
  }
 ],
 "metadata": {
  "orig_nbformat": 4,
  "language_info": {
   "name": "python",
   "version": "3.7.11",
   "mimetype": "text/x-python",
   "codemirror_mode": {
    "name": "ipython",
    "version": 3
   },
   "pygments_lexer": "ipython3",
   "nbconvert_exporter": "python",
   "file_extension": ".py"
  },
  "kernelspec": {
   "name": "python3",
   "display_name": "Python 3.7.11 64-bit ('base': conda)"
  },
  "interpreter": {
   "hash": "44e4baef8aa2bfdee458aa519960f936f36d6c605b940cfa7e03f66b68608407"
  }
 },
 "nbformat": 4,
 "nbformat_minor": 2
}