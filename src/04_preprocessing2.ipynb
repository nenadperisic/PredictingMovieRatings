{
 "metadata": {
  "language_info": {
   "codemirror_mode": {
    "name": "ipython",
    "version": 3
   },
   "file_extension": ".py",
   "mimetype": "text/x-python",
   "name": "python",
   "nbconvert_exporter": "python",
   "pygments_lexer": "ipython3",
   "version": "3.7.11"
  },
  "orig_nbformat": 2,
  "kernelspec": {
   "name": "python3",
   "display_name": "Python 3.7.11 64-bit ('base': conda)"
  },
  "interpreter": {
   "hash": "44e4baef8aa2bfdee458aa519960f936f36d6c605b940cfa7e03f66b68608407"
  }
 },
 "nbformat": 4,
 "nbformat_minor": 2,
 "cells": [
  {
   "cell_type": "code",
   "execution_count": 1,
   "source": [
    "import pandas as pd\n",
    "import numpy as np\n",
    "from ast import literal_eval # using literal_eval we can make object from string\n",
    "from sklearn.model_selection import train_test_split\n",
    "from sklearn.preprocessing import StandardScaler\n",
    "import os\n",
    "import nltk\n",
    "import string\n",
    "from nltk.corpus import stopwords\n",
    "from collections import Counter\n",
    "# nltk.download('punkt')\n",
    "# nltk.download('universal_tagset')\n",
    "# nltk.download('stopwords')"
   ],
   "outputs": [],
   "metadata": {}
  },
  {
   "cell_type": "code",
   "execution_count": null,
   "source": [
    "# first database\n",
    "movie_genre = pd.read_csv(\"../data/movieGenres/MovieGenre.csv\", encoding=\"latin1\")\n",
    "# second database\n",
    "credits = pd.read_csv(\"../data/movies/credits.csv\", encoding=\"latin1\")\n",
    "keywords = pd.read_csv(\"../data/movies/keywords.csv\", encoding=\"latin1\")\n",
    "movies_metadata = pd.read_csv('../data/movies/movies_metadata.csv', encoding=\"latin1\")"
   ],
   "outputs": [],
   "metadata": {}
  },
  {
   "cell_type": "code",
   "execution_count": 3,
   "source": [
    "# we need to rename column imdbId so it matches column name from movies_metadata.csv, for later join\n",
    "cleaned_movie_genre = movie_genre.rename(columns={'imdbId': 'imdb_id'})\n",
    "cleaned_movie_genre = cleaned_movie_genre.drop_duplicates(subset=['imdb_id'], keep=False)\n",
    "\n",
    "cleaned_credits = credits.drop_duplicates(subset=['id'], keep=False)\n",
    "cleaned_keywords = keywords.drop_duplicates(subset=['id'], keep=False)\n",
    "\n",
    "cleaned_movies_metadata = movies_metadata.copy()\n",
    "cleaned_movies_metadata = cleaned_movies_metadata[cleaned_movies_metadata['imdb_id']!='0']\n",
    "cleaned_movies_metadata['imdb_id'] = cleaned_movies_metadata['imdb_id'].str.replace('tt','')\n",
    "cleaned_movies_metadata['imdb_id'] = pd.to_numeric(cleaned_movies_metadata['imdb_id'], errors='coerce')\n",
    "cleaned_movies_metadata = cleaned_movies_metadata[~np.isnan(cleaned_movies_metadata['imdb_id'])]\n",
    "cleaned_movies_metadata['imdb_id'] = cleaned_movies_metadata['imdb_id'].astype(int)\n",
    "cleaned_movies_metadata = cleaned_movies_metadata.drop_duplicates(subset=['imdb_id'], keep=False)\n",
    "\n",
    "cleaned_movies_metadata['id'] = cleaned_movies_metadata['id'].astype(int)\n",
    "\n",
    "all_tables_merged = pd.merge(cleaned_movies_metadata, cleaned_credits, on='id')\n",
    "all_tables_merged = pd.merge(all_tables_merged, cleaned_keywords, on='id')\n",
    "all_tables_merged = pd.merge(all_tables_merged, cleaned_movie_genre, on='imdb_id')\n",
    "\n",
    "print(all_tables_merged.shape)\n",
    "\n",
    "all_tables_merged.to_csv('../data/preprocessed_data2.csv', index=False)\n",
    "# all_tables_merged.head()"
   ],
   "outputs": [
    {
     "output_type": "stream",
     "name": "stdout",
     "text": [
      "(37504, 32)\n"
     ]
    }
   ],
   "metadata": {}
  },
  {
   "cell_type": "markdown",
   "source": [
    "# Removig columns that are not required"
   ],
   "metadata": {}
  },
  {
   "cell_type": "code",
   "execution_count": null,
   "source": [
    "prepared_data = pd.read_csv('../data/preprocessed_data2.csv');\n",
    "prepared_data.drop('belongs_to_collection', 1, inplace=True)\n",
    "prepared_data.drop('homepage', 1, inplace=True)\n",
    "prepared_data.drop('poster_path', 1, inplace=True)\n",
    "prepared_data.drop('video', 1, inplace=True)\n",
    "prepared_data.drop('Poster', 1, inplace=True)\n",
    "prepared_data.drop('original_title', 1, inplace=True)\n",
    "prepared_data.drop('Title', 1, inplace=True)"
   ],
   "outputs": [],
   "metadata": {}
  },
  {
   "cell_type": "code",
   "execution_count": null,
   "source": [
    "prepared_data.head()"
   ],
   "outputs": [],
   "metadata": {}
  },
  {
   "cell_type": "markdown",
   "source": [
    "We will filter english movies that are released after 1970."
   ],
   "metadata": {}
  },
  {
   "cell_type": "code",
   "execution_count": 5,
   "source": [
    "prepared_data = prepared_data[prepared_data.original_language == 'en']\n",
    "pd.to_datetime(prepared_data.release_date)\n",
    "prepared_data['year'] = pd.DatetimeIndex(prepared_data['release_date']).year\n",
    "prepared_data = prepared_data.loc[prepared_data.year > 1970]\n",
    "print(prepared_data.shape)\n",
    "\n",
    "prepared_data.to_csv('../data/preprocessed_data2_2.csv', index=False)"
   ],
   "outputs": [
    {
     "output_type": "stream",
     "name": "stdout",
     "text": [
      "(21567, 26)\n"
     ]
    }
   ],
   "metadata": {}
  },
  {
   "cell_type": "markdown",
   "source": [
    "# We will extract top 6 actors, top 2 comapanies, and director"
   ],
   "metadata": {}
  },
  {
   "cell_type": "code",
   "execution_count": 6,
   "source": [
    "def get_director(crew):\n",
    "    for director in crew:\n",
    "        if director['job'] == 'Director':\n",
    "            return director['name']\n",
    "    return\n",
    "\n",
    "def get_actors(cast, num_of_actors = 6):\n",
    "    if isinstance(cast, list):\n",
    "        actors = [actor['name'] for actor in cast]\n",
    "        if len(actors) >= num_of_actors:\n",
    "            actors = actors[:num_of_actors]\n",
    "            return '|'.join(actors)\n",
    "        return '|'.join(actors)\n",
    "\n",
    "def get_actors_list(cast, num_of_actors = 6):\n",
    "    if isinstance(cast, list):\n",
    "        actors = [actor['name'] for actor in cast]\n",
    "        if len(actors) >= num_of_actors:\n",
    "            actors = actors[:num_of_actors]\n",
    "            return actors\n",
    "        return actors\n",
    "\n",
    "def get_production_companies(companies, num_of_companies = 2):\n",
    "    if isinstance(companies, list):\n",
    "        prod_companies = [company['name'] for company in companies]\n",
    "        if len(prod_companies) >= num_of_companies:\n",
    "            prod_companies = prod_companies[:num_of_companies]\n",
    "            return '|'.join(prod_companies)\n",
    "        elif prod_companies == 0:\n",
    "            return ''\n",
    "        return '|'.join(prod_companies)"
   ],
   "outputs": [],
   "metadata": {}
  },
  {
   "cell_type": "code",
   "execution_count": 7,
   "source": [
    "prepared_data.dropna(subset=['production_companies'], inplace=True)\n",
    "directors = prepared_data['crew'].apply(literal_eval).apply(get_director)\n",
    "actors = prepared_data['cast'].apply(literal_eval).apply(get_actors)\n",
    "top_actors = prepared_data['cast'].apply(literal_eval).apply(get_actors_list)\n",
    "top_2_companies = prepared_data['production_companies'].apply(literal_eval).apply(get_production_companies)\n",
    "\n",
    "prepared_data['director'] = directors\n",
    "prepared_data['top_actors'] = top_actors\n",
    "prepared_data['actors'] = actors\n",
    "prepared_data['companies'] = top_2_companies\n",
    "prepared_data.to_csv('../data/preprocessed_data2_3.csv', index=False)"
   ],
   "outputs": [],
   "metadata": {}
  },
  {
   "cell_type": "code",
   "execution_count": 289,
   "source": [
    "prepared_data.head()"
   ],
   "outputs": [
    {
     "output_type": "execute_result",
     "data": {
      "text/plain": [
       "   adult    budget                                             genres     id  \\\n",
       "0  False  30000000  [{'id': 16, 'name': 'Animation'}, {'id': 35, '...    862   \n",
       "1  False  65000000  [{'id': 12, 'name': 'Adventure'}, {'id': 14, '...   8844   \n",
       "2  False         0  [{'id': 10749, 'name': 'Romance'}, {'id': 35, ...  15602   \n",
       "3  False  16000000  [{'id': 35, 'name': 'Comedy'}, {'id': 18, 'nam...  31357   \n",
       "4  False         0                     [{'id': 35, 'name': 'Comedy'}]  11862   \n",
       "\n",
       "   imdb_id original_language  \\\n",
       "0   114709                en   \n",
       "1   113497                en   \n",
       "2   113228                en   \n",
       "3   114885                en   \n",
       "4   113041                en   \n",
       "\n",
       "                                            overview  popularity  \\\n",
       "0  Led by Woody, Andy's toys live happily in his ...   21.946943   \n",
       "1  When siblings Judy and Peter discover an encha...   17.015539   \n",
       "2  A family wedding reignites the ancient feud be...   11.712900   \n",
       "3  Cheated on, mistreated and stepped on, the wom...    3.859495   \n",
       "4  Just when George Banks has recovered from his ...    8.387519   \n",
       "\n",
       "                                production_companies  \\\n",
       "0     [{'name': 'Pixar Animation Studios', 'id': 3}]   \n",
       "1  [{'name': 'TriStar Pictures', 'id': 559}, {'na...   \n",
       "2  [{'name': 'Warner Bros.', 'id': 6194}, {'name'...   \n",
       "3  [{'name': 'Twentieth Century Fox Film Corporat...   \n",
       "4  [{'name': 'Sandollar Productions', 'id': 5842}...   \n",
       "\n",
       "                                production_countries  ...  \\\n",
       "0  [{'iso_3166_1': 'US', 'name': 'United States o...  ...   \n",
       "1  [{'iso_3166_1': 'US', 'name': 'United States o...  ...   \n",
       "2  [{'iso_3166_1': 'US', 'name': 'United States o...  ...   \n",
       "3  [{'iso_3166_1': 'US', 'name': 'United States o...  ...   \n",
       "4  [{'iso_3166_1': 'US', 'name': 'United States o...  ...   \n",
       "\n",
       "                                                crew  \\\n",
       "0  [{'credit_id': '52fe4284c3a36847f8024f49', 'de...   \n",
       "1  [{'credit_id': '52fe44bfc3a36847f80a7cd1', 'de...   \n",
       "2  [{'credit_id': '52fe466a9251416c75077a89', 'de...   \n",
       "3  [{'credit_id': '52fe44779251416c91011acb', 'de...   \n",
       "4  [{'credit_id': '52fe44959251416c75039ed7', 'de...   \n",
       "\n",
       "                                            keywords  \\\n",
       "0  [{'id': 931, 'name': 'jealousy'}, {'id': 4290,...   \n",
       "1  [{'id': 10090, 'name': 'board game'}, {'id': 1...   \n",
       "2  [{'id': 1495, 'name': 'fishing'}, {'id': 12392...   \n",
       "3  [{'id': 818, 'name': 'based on novel'}, {'id':...   \n",
       "4  [{'id': 1009, 'name': 'baby'}, {'id': 1599, 'n...   \n",
       "\n",
       "                            Imdb Link IMDB Score                       Genre  \\\n",
       "0  http://www.imdb.com/title/tt114709        8.3  Animation|Adventure|Comedy   \n",
       "1  http://www.imdb.com/title/tt113497        6.9     Action|Adventure|Family   \n",
       "2  http://www.imdb.com/title/tt113228        6.6              Comedy|Romance   \n",
       "3  http://www.imdb.com/title/tt114885        5.7        Comedy|Drama|Romance   \n",
       "4  http://www.imdb.com/title/tt113041        5.9       Comedy|Family|Romance   \n",
       "\n",
       "     year         director                                         top_actors  \\\n",
       "0  1995.0    John Lasseter  [Tom Hanks, Tim Allen, Don Rickles, Jim Varney...   \n",
       "1  1995.0     Joe Johnston  [Robin Williams, Jonathan Hyde, Kirsten Dunst,...   \n",
       "2  1995.0    Howard Deutch  [Walter Matthau, Jack Lemmon, Ann-Margret, Sop...   \n",
       "3  1995.0  Forest Whitaker  [Whitney Houston, Angela Bassett, Loretta Devi...   \n",
       "4  1995.0    Charles Shyer  [Steve Martin, Diane Keaton, Martin Short, Kim...   \n",
       "\n",
       "                                              actors  \\\n",
       "0  Tom Hanks|Tim Allen|Don Rickles|Jim Varney|Wal...   \n",
       "1  Robin Williams|Jonathan Hyde|Kirsten Dunst|Bra...   \n",
       "2  Walter Matthau|Jack Lemmon|Ann-Margret|Sophia ...   \n",
       "3  Whitney Houston|Angela Bassett|Loretta Devine|...   \n",
       "4  Steve Martin|Diane Keaton|Martin Short|Kimberl...   \n",
       "\n",
       "                                   companies  \n",
       "0                    Pixar Animation Studios  \n",
       "1              TriStar Pictures|Teitler Film  \n",
       "2                Warner Bros.|Lancaster Gate  \n",
       "3     Twentieth Century Fox Film Corporation  \n",
       "4  Sandollar Productions|Touchstone Pictures  \n",
       "\n",
       "[5 rows x 30 columns]"
      ],
      "text/html": [
       "<div>\n",
       "<style scoped>\n",
       "    .dataframe tbody tr th:only-of-type {\n",
       "        vertical-align: middle;\n",
       "    }\n",
       "\n",
       "    .dataframe tbody tr th {\n",
       "        vertical-align: top;\n",
       "    }\n",
       "\n",
       "    .dataframe thead th {\n",
       "        text-align: right;\n",
       "    }\n",
       "</style>\n",
       "<table border=\"1\" class=\"dataframe\">\n",
       "  <thead>\n",
       "    <tr style=\"text-align: right;\">\n",
       "      <th></th>\n",
       "      <th>adult</th>\n",
       "      <th>budget</th>\n",
       "      <th>genres</th>\n",
       "      <th>id</th>\n",
       "      <th>imdb_id</th>\n",
       "      <th>original_language</th>\n",
       "      <th>overview</th>\n",
       "      <th>popularity</th>\n",
       "      <th>production_companies</th>\n",
       "      <th>production_countries</th>\n",
       "      <th>...</th>\n",
       "      <th>crew</th>\n",
       "      <th>keywords</th>\n",
       "      <th>Imdb Link</th>\n",
       "      <th>IMDB Score</th>\n",
       "      <th>Genre</th>\n",
       "      <th>year</th>\n",
       "      <th>director</th>\n",
       "      <th>top_actors</th>\n",
       "      <th>actors</th>\n",
       "      <th>companies</th>\n",
       "    </tr>\n",
       "  </thead>\n",
       "  <tbody>\n",
       "    <tr>\n",
       "      <th>0</th>\n",
       "      <td>False</td>\n",
       "      <td>30000000</td>\n",
       "      <td>[{'id': 16, 'name': 'Animation'}, {'id': 35, '...</td>\n",
       "      <td>862</td>\n",
       "      <td>114709</td>\n",
       "      <td>en</td>\n",
       "      <td>Led by Woody, Andy's toys live happily in his ...</td>\n",
       "      <td>21.946943</td>\n",
       "      <td>[{'name': 'Pixar Animation Studios', 'id': 3}]</td>\n",
       "      <td>[{'iso_3166_1': 'US', 'name': 'United States o...</td>\n",
       "      <td>...</td>\n",
       "      <td>[{'credit_id': '52fe4284c3a36847f8024f49', 'de...</td>\n",
       "      <td>[{'id': 931, 'name': 'jealousy'}, {'id': 4290,...</td>\n",
       "      <td>http://www.imdb.com/title/tt114709</td>\n",
       "      <td>8.3</td>\n",
       "      <td>Animation|Adventure|Comedy</td>\n",
       "      <td>1995.0</td>\n",
       "      <td>John Lasseter</td>\n",
       "      <td>[Tom Hanks, Tim Allen, Don Rickles, Jim Varney...</td>\n",
       "      <td>Tom Hanks|Tim Allen|Don Rickles|Jim Varney|Wal...</td>\n",
       "      <td>Pixar Animation Studios</td>\n",
       "    </tr>\n",
       "    <tr>\n",
       "      <th>1</th>\n",
       "      <td>False</td>\n",
       "      <td>65000000</td>\n",
       "      <td>[{'id': 12, 'name': 'Adventure'}, {'id': 14, '...</td>\n",
       "      <td>8844</td>\n",
       "      <td>113497</td>\n",
       "      <td>en</td>\n",
       "      <td>When siblings Judy and Peter discover an encha...</td>\n",
       "      <td>17.015539</td>\n",
       "      <td>[{'name': 'TriStar Pictures', 'id': 559}, {'na...</td>\n",
       "      <td>[{'iso_3166_1': 'US', 'name': 'United States o...</td>\n",
       "      <td>...</td>\n",
       "      <td>[{'credit_id': '52fe44bfc3a36847f80a7cd1', 'de...</td>\n",
       "      <td>[{'id': 10090, 'name': 'board game'}, {'id': 1...</td>\n",
       "      <td>http://www.imdb.com/title/tt113497</td>\n",
       "      <td>6.9</td>\n",
       "      <td>Action|Adventure|Family</td>\n",
       "      <td>1995.0</td>\n",
       "      <td>Joe Johnston</td>\n",
       "      <td>[Robin Williams, Jonathan Hyde, Kirsten Dunst,...</td>\n",
       "      <td>Robin Williams|Jonathan Hyde|Kirsten Dunst|Bra...</td>\n",
       "      <td>TriStar Pictures|Teitler Film</td>\n",
       "    </tr>\n",
       "    <tr>\n",
       "      <th>2</th>\n",
       "      <td>False</td>\n",
       "      <td>0</td>\n",
       "      <td>[{'id': 10749, 'name': 'Romance'}, {'id': 35, ...</td>\n",
       "      <td>15602</td>\n",
       "      <td>113228</td>\n",
       "      <td>en</td>\n",
       "      <td>A family wedding reignites the ancient feud be...</td>\n",
       "      <td>11.712900</td>\n",
       "      <td>[{'name': 'Warner Bros.', 'id': 6194}, {'name'...</td>\n",
       "      <td>[{'iso_3166_1': 'US', 'name': 'United States o...</td>\n",
       "      <td>...</td>\n",
       "      <td>[{'credit_id': '52fe466a9251416c75077a89', 'de...</td>\n",
       "      <td>[{'id': 1495, 'name': 'fishing'}, {'id': 12392...</td>\n",
       "      <td>http://www.imdb.com/title/tt113228</td>\n",
       "      <td>6.6</td>\n",
       "      <td>Comedy|Romance</td>\n",
       "      <td>1995.0</td>\n",
       "      <td>Howard Deutch</td>\n",
       "      <td>[Walter Matthau, Jack Lemmon, Ann-Margret, Sop...</td>\n",
       "      <td>Walter Matthau|Jack Lemmon|Ann-Margret|Sophia ...</td>\n",
       "      <td>Warner Bros.|Lancaster Gate</td>\n",
       "    </tr>\n",
       "    <tr>\n",
       "      <th>3</th>\n",
       "      <td>False</td>\n",
       "      <td>16000000</td>\n",
       "      <td>[{'id': 35, 'name': 'Comedy'}, {'id': 18, 'nam...</td>\n",
       "      <td>31357</td>\n",
       "      <td>114885</td>\n",
       "      <td>en</td>\n",
       "      <td>Cheated on, mistreated and stepped on, the wom...</td>\n",
       "      <td>3.859495</td>\n",
       "      <td>[{'name': 'Twentieth Century Fox Film Corporat...</td>\n",
       "      <td>[{'iso_3166_1': 'US', 'name': 'United States o...</td>\n",
       "      <td>...</td>\n",
       "      <td>[{'credit_id': '52fe44779251416c91011acb', 'de...</td>\n",
       "      <td>[{'id': 818, 'name': 'based on novel'}, {'id':...</td>\n",
       "      <td>http://www.imdb.com/title/tt114885</td>\n",
       "      <td>5.7</td>\n",
       "      <td>Comedy|Drama|Romance</td>\n",
       "      <td>1995.0</td>\n",
       "      <td>Forest Whitaker</td>\n",
       "      <td>[Whitney Houston, Angela Bassett, Loretta Devi...</td>\n",
       "      <td>Whitney Houston|Angela Bassett|Loretta Devine|...</td>\n",
       "      <td>Twentieth Century Fox Film Corporation</td>\n",
       "    </tr>\n",
       "    <tr>\n",
       "      <th>4</th>\n",
       "      <td>False</td>\n",
       "      <td>0</td>\n",
       "      <td>[{'id': 35, 'name': 'Comedy'}]</td>\n",
       "      <td>11862</td>\n",
       "      <td>113041</td>\n",
       "      <td>en</td>\n",
       "      <td>Just when George Banks has recovered from his ...</td>\n",
       "      <td>8.387519</td>\n",
       "      <td>[{'name': 'Sandollar Productions', 'id': 5842}...</td>\n",
       "      <td>[{'iso_3166_1': 'US', 'name': 'United States o...</td>\n",
       "      <td>...</td>\n",
       "      <td>[{'credit_id': '52fe44959251416c75039ed7', 'de...</td>\n",
       "      <td>[{'id': 1009, 'name': 'baby'}, {'id': 1599, 'n...</td>\n",
       "      <td>http://www.imdb.com/title/tt113041</td>\n",
       "      <td>5.9</td>\n",
       "      <td>Comedy|Family|Romance</td>\n",
       "      <td>1995.0</td>\n",
       "      <td>Charles Shyer</td>\n",
       "      <td>[Steve Martin, Diane Keaton, Martin Short, Kim...</td>\n",
       "      <td>Steve Martin|Diane Keaton|Martin Short|Kimberl...</td>\n",
       "      <td>Sandollar Productions|Touchstone Pictures</td>\n",
       "    </tr>\n",
       "  </tbody>\n",
       "</table>\n",
       "<p>5 rows × 30 columns</p>\n",
       "</div>"
      ]
     },
     "metadata": {},
     "execution_count": 289
    }
   ],
   "metadata": {}
  },
  {
   "cell_type": "code",
   "execution_count": 8,
   "source": [
    "actors_flat_list = [item for sublist in prepared_data['top_actors'] for item in sublist]"
   ],
   "outputs": [],
   "metadata": {}
  },
  {
   "cell_type": "markdown",
   "source": [
    "We will take 200 most frequent actors (the ones that appear in the most number of films)"
   ],
   "metadata": {}
  },
  {
   "cell_type": "code",
   "execution_count": 9,
   "source": [
    "main_actors = [x for x in actors_flat_list]\n",
    "main_actors_dict = dict(Counter(main_actors))\n",
    "main_actors_sorted = sorted(main_actors_dict, key=main_actors_dict.get, reverse=True)\n",
    "main_actors_sorted = main_actors_sorted[:200]"
   ],
   "outputs": [],
   "metadata": {}
  },
  {
   "cell_type": "code",
   "execution_count": 292,
   "source": [
    "print(main_actors_sorted)"
   ],
   "outputs": [
    {
     "output_type": "stream",
     "name": "stdout",
     "text": [
      "['Robert De Niro', 'Samuel L. Jackson', 'Michael Caine', 'Christopher Walken', 'Bruce Willis', 'Harvey Keitel', 'Nicolas Cage', 'Steve Buscemi', 'Susan Sarandon', 'Morgan Freeman', 'Donald Sutherland', 'John Goodman', 'Danny Glover', 'Gene Hackman', 'Robert Duvall', 'Alec Baldwin', 'Jeff Bridges', 'Ed Harris', 'Liam Neeson', 'John Hurt', 'Helen Mirren', 'Nick Nolte', 'Eric Roberts', 'James Franco', 'Malcolm McDowell', 'Willem Dafoe', 'Julianne Moore', 'John Cusack', 'Ben Kingsley', 'Robin Williams', 'Anthony Hopkins', 'Woody Harrelson', 'William Hurt', 'Tom Hanks', 'Val Kilmer', 'Christopher Plummer', 'Burt Reynolds', 'Ray Liotta', 'Meryl Streep', 'John Leguizamo', 'Dennis Hopper', 'Christopher Lee', 'Robert Downey Jr.', 'Sam Neill', 'Brian Cox', 'Ned Beatty', 'Christopher Lloyd', 'Whoopi Goldberg', 'Dennis Quaid', 'Dan Aykroyd', 'James Caan', 'Kevin Bacon', 'William H. Macy', 'Johnny Depp', 'Forest Whitaker', 'Martin Sheen', 'John Travolta', 'Lance Henriksen', 'Helena Bonham Carter', 'Ving Rhames', 'Bill Murray', 'Al Pacino', 'Sean Penn', 'Nicole Kidman', 'Dolph Lundgren', 'Danny Trejo', 'Daryl Hannah', 'Pierce Brosnan', 'Antonio Banderas', 'Danny DeVito', 'Christian Slater', 'John Turturro', 'Keanu Reeves', 'Ethan Hawke', 'Tom Wilkinson', 'Sylvester Stallone', 'Woody Allen', 'John Malkovich', 'Tommy Lee Jones', 'Jeff Daniels', 'Dustin Hoffman', 'Ewan McGregor', 'James Woods', 'Jim Broadbent', 'Harry Dean Stanton', 'Tom Berenger', 'Kris Kristofferson', 'Sean Bean', 'Michael Ironside', 'Stanley Tucci', \"Vincent D'Onofrio\", 'Mickey Rourke', 'Donald Pleasence', 'Sigourney Weaver', 'Laurence Fishburne', 'Kevin Spacey', 'Gabriel Byrne', 'Andy GarcÃ\\xada', 'Michael Gambon', 'Bruce Dern', 'Richard Gere', 'Sharon Stone', 'Jeff Goldblum', 'Brad Pitt', 'James Earl Jones', 'Winona Ryder', 'Charles Durning', 'Kiefer Sutherland', 'Richard Dreyfuss', 'Bill Pullman', 'Alan Arkin', 'Matthew Lillard', 'Gary Oldman', 'Ralph Fiennes', 'Kevin Costner', 'Kathy Bates', 'Ron Perlman', 'Stephen Rea', 'Kurt Russell', 'Naomi Watts', 'Brad Dourif', 'Matt Damon', 'Tim Roth', 'Mary Steenburgen', 'Michelle Pfeiffer', 'Matt Dillon', 'Mel Gibson', 'Ben Stiller', 'Clint Eastwood', 'Bill Paxton', 'Denzel Washington', 'Rosario Dawson', 'Drew Barrymore', 'Colin Firth', 'Cuba Gooding Jr.', 'Ian Holm', 'John Cleese', 'Cary Elwes', 'Randy Quaid', 'Sam Shepard', 'Frank Welker', 'Paul Giamatti', 'Diane Keaton', 'Jon Voight', 'Jean-Claude Van Damme', 'Bob Hoskins', 'Keith David', 'Ellen Burstyn', 'Glenn Close', 'Alfred Molina', 'Scarlett Johansson', 'Toni Collette', 'Steve Martin', 'Harrison Ford', 'Michael Douglas', 'Marisa Tomei', 'Jack Nicholson', 'Anjelica Huston', 'Eddie Murphy', 'Owen Wilson', 'Brendan Gleeson', 'Jeremy Irons', 'Sean Connery', 'Catherine Keener', 'Scott Glenn', 'Steven Seagal', 'Bruce Davison', 'Joss Ackland', 'Billy Zane', 'Philip Seymour Hoffman', 'John Lithgow', 'Peter Stormare', 'Tom Skerritt', 'Beau Bridges', 'Robert Forster', 'Tom Sizemore', 'Richard Jenkins', 'Jim Belushi', 'Michael Madsen', 'Ben Affleck', 'Liev Schreiber', 'Brian Dennehy', 'David Strathairn', 'Vanessa Redgrave', 'Matthew Broderick', 'Cameron Diaz', 'Sean Astin', 'Heather Graham', 'Charlie Sheen', 'Billy Bob Thornton', 'Barbara Hershey', 'Wesley Snipes', 'Demi Moore', 'Jennifer Jason Leigh', 'John C. Reilly', 'Sandra Bullock', 'Juliette Lewis', 'Gary Busey', 'Julia Roberts', 'Joan Cusack']\n"
     ]
    }
   ],
   "metadata": {}
  },
  {
   "cell_type": "code",
   "execution_count": 10,
   "source": [
    "included_columns = ['IMDB Score', 'overview', 'Genre', 'actors', 'runtime', 'director', 'budget', 'companies', 'top_actors']\n",
    "preprocessed_data2_3 = pd.read_csv('../data/preprocessed_data2_3.csv')\n",
    "data_to_use = preprocessed_data2_3[included_columns]\n",
    "print(data_to_use.shape)\n",
    "data_to_use = data_to_use.dropna()\n",
    "print(data_to_use.shape)\n",
    "data_to_use.head()"
   ],
   "outputs": [
    {
     "output_type": "stream",
     "name": "stdout",
     "text": [
      "(21567, 9)\n",
      "(15041, 9)\n"
     ]
    },
    {
     "output_type": "execute_result",
     "data": {
      "text/plain": [
       "   IMDB Score                                           overview  \\\n",
       "0         8.3  Led by Woody, Andy's toys live happily in his ...   \n",
       "1         6.9  When siblings Judy and Peter discover an encha...   \n",
       "2         6.6  A family wedding reignites the ancient feud be...   \n",
       "3         5.7  Cheated on, mistreated and stepped on, the wom...   \n",
       "4         5.9  Just when George Banks has recovered from his ...   \n",
       "\n",
       "                        Genre  \\\n",
       "0  Animation|Adventure|Comedy   \n",
       "1     Action|Adventure|Family   \n",
       "2              Comedy|Romance   \n",
       "3        Comedy|Drama|Romance   \n",
       "4       Comedy|Family|Romance   \n",
       "\n",
       "                                              actors  runtime  \\\n",
       "0  Tom Hanks|Tim Allen|Don Rickles|Jim Varney|Wal...     81.0   \n",
       "1  Robin Williams|Jonathan Hyde|Kirsten Dunst|Bra...    104.0   \n",
       "2  Walter Matthau|Jack Lemmon|Ann-Margret|Sophia ...    101.0   \n",
       "3  Whitney Houston|Angela Bassett|Loretta Devine|...    127.0   \n",
       "4  Steve Martin|Diane Keaton|Martin Short|Kimberl...    106.0   \n",
       "\n",
       "          director    budget                                  companies  \\\n",
       "0    John Lasseter  30000000                    Pixar Animation Studios   \n",
       "1     Joe Johnston  65000000              TriStar Pictures|Teitler Film   \n",
       "2    Howard Deutch         0                Warner Bros.|Lancaster Gate   \n",
       "3  Forest Whitaker  16000000     Twentieth Century Fox Film Corporation   \n",
       "4    Charles Shyer         0  Sandollar Productions|Touchstone Pictures   \n",
       "\n",
       "                                          top_actors  \n",
       "0  ['Tom Hanks', 'Tim Allen', 'Don Rickles', 'Jim...  \n",
       "1  ['Robin Williams', 'Jonathan Hyde', 'Kirsten D...  \n",
       "2  ['Walter Matthau', 'Jack Lemmon', 'Ann-Margret...  \n",
       "3  ['Whitney Houston', 'Angela Bassett', 'Loretta...  \n",
       "4  ['Steve Martin', 'Diane Keaton', 'Martin Short...  "
      ],
      "text/html": [
       "<div>\n",
       "<style scoped>\n",
       "    .dataframe tbody tr th:only-of-type {\n",
       "        vertical-align: middle;\n",
       "    }\n",
       "\n",
       "    .dataframe tbody tr th {\n",
       "        vertical-align: top;\n",
       "    }\n",
       "\n",
       "    .dataframe thead th {\n",
       "        text-align: right;\n",
       "    }\n",
       "</style>\n",
       "<table border=\"1\" class=\"dataframe\">\n",
       "  <thead>\n",
       "    <tr style=\"text-align: right;\">\n",
       "      <th></th>\n",
       "      <th>IMDB Score</th>\n",
       "      <th>overview</th>\n",
       "      <th>Genre</th>\n",
       "      <th>actors</th>\n",
       "      <th>runtime</th>\n",
       "      <th>director</th>\n",
       "      <th>budget</th>\n",
       "      <th>companies</th>\n",
       "      <th>top_actors</th>\n",
       "    </tr>\n",
       "  </thead>\n",
       "  <tbody>\n",
       "    <tr>\n",
       "      <th>0</th>\n",
       "      <td>8.3</td>\n",
       "      <td>Led by Woody, Andy's toys live happily in his ...</td>\n",
       "      <td>Animation|Adventure|Comedy</td>\n",
       "      <td>Tom Hanks|Tim Allen|Don Rickles|Jim Varney|Wal...</td>\n",
       "      <td>81.0</td>\n",
       "      <td>John Lasseter</td>\n",
       "      <td>30000000</td>\n",
       "      <td>Pixar Animation Studios</td>\n",
       "      <td>['Tom Hanks', 'Tim Allen', 'Don Rickles', 'Jim...</td>\n",
       "    </tr>\n",
       "    <tr>\n",
       "      <th>1</th>\n",
       "      <td>6.9</td>\n",
       "      <td>When siblings Judy and Peter discover an encha...</td>\n",
       "      <td>Action|Adventure|Family</td>\n",
       "      <td>Robin Williams|Jonathan Hyde|Kirsten Dunst|Bra...</td>\n",
       "      <td>104.0</td>\n",
       "      <td>Joe Johnston</td>\n",
       "      <td>65000000</td>\n",
       "      <td>TriStar Pictures|Teitler Film</td>\n",
       "      <td>['Robin Williams', 'Jonathan Hyde', 'Kirsten D...</td>\n",
       "    </tr>\n",
       "    <tr>\n",
       "      <th>2</th>\n",
       "      <td>6.6</td>\n",
       "      <td>A family wedding reignites the ancient feud be...</td>\n",
       "      <td>Comedy|Romance</td>\n",
       "      <td>Walter Matthau|Jack Lemmon|Ann-Margret|Sophia ...</td>\n",
       "      <td>101.0</td>\n",
       "      <td>Howard Deutch</td>\n",
       "      <td>0</td>\n",
       "      <td>Warner Bros.|Lancaster Gate</td>\n",
       "      <td>['Walter Matthau', 'Jack Lemmon', 'Ann-Margret...</td>\n",
       "    </tr>\n",
       "    <tr>\n",
       "      <th>3</th>\n",
       "      <td>5.7</td>\n",
       "      <td>Cheated on, mistreated and stepped on, the wom...</td>\n",
       "      <td>Comedy|Drama|Romance</td>\n",
       "      <td>Whitney Houston|Angela Bassett|Loretta Devine|...</td>\n",
       "      <td>127.0</td>\n",
       "      <td>Forest Whitaker</td>\n",
       "      <td>16000000</td>\n",
       "      <td>Twentieth Century Fox Film Corporation</td>\n",
       "      <td>['Whitney Houston', 'Angela Bassett', 'Loretta...</td>\n",
       "    </tr>\n",
       "    <tr>\n",
       "      <th>4</th>\n",
       "      <td>5.9</td>\n",
       "      <td>Just when George Banks has recovered from his ...</td>\n",
       "      <td>Comedy|Family|Romance</td>\n",
       "      <td>Steve Martin|Diane Keaton|Martin Short|Kimberl...</td>\n",
       "      <td>106.0</td>\n",
       "      <td>Charles Shyer</td>\n",
       "      <td>0</td>\n",
       "      <td>Sandollar Productions|Touchstone Pictures</td>\n",
       "      <td>['Steve Martin', 'Diane Keaton', 'Martin Short...</td>\n",
       "    </tr>\n",
       "  </tbody>\n",
       "</table>\n",
       "</div>"
      ]
     },
     "metadata": {},
     "execution_count": 10
    }
   ],
   "metadata": {}
  },
  {
   "cell_type": "code",
   "execution_count": 11,
   "source": [
    "def check_if_contains(s):\n",
    "    list_of_actors = [x.strip('[]').split(',')[0] for x in s]\n",
    "    return not set(list_of_actors).isdisjoint(set(main_actors_sorted))"
   ],
   "outputs": [],
   "metadata": {}
  },
  {
   "cell_type": "markdown",
   "source": [
    "Drop films that do not have either of this 200 most frequent actors"
   ],
   "metadata": {}
  },
  {
   "cell_type": "code",
   "execution_count": 12,
   "source": [
    "keep_actors = data_to_use['top_actors'].apply(literal_eval).apply(check_if_contains)\n",
    "data_to_use['keep_actors'] = keep_actors\n",
    "data_to_use = data_to_use[data_to_use['keep_actors'] == True]\n",
    "data_to_use.drop(columns='keep_actors', inplace=True)\n",
    "data_to_use.shape\n",
    "# data_to_use.head()"
   ],
   "outputs": [
    {
     "output_type": "execute_result",
     "data": {
      "text/plain": [
       "(5612, 9)"
      ]
     },
     "metadata": {},
     "execution_count": 12
    }
   ],
   "metadata": {}
  },
  {
   "cell_type": "code",
   "execution_count": 13,
   "source": [
    "def get_words(message, tokenizer = None):\n",
    "    if tokenizer:\n",
    "        doc = tokenizer(message)\n",
    "        return [i.text for i in doc]\n",
    "    else:\n",
    "        return message.lower().split('|')\n",
    "\n",
    "def create_dictionary(messages, min_count = 5, tokenizer = None):\n",
    "    words_count = {}\n",
    "    for s in messages:\n",
    "        words = get_words(s, tokenizer)\n",
    "        words_unique = list(dict.fromkeys(words))\n",
    "        for w in words_unique:\n",
    "            if w not in words_count:\n",
    "                words_count[w] = 1\n",
    "            else:\n",
    "                words_count[w] += 1\n",
    "\n",
    "    for word in list(words_count.keys()):\n",
    "        if words_count[word] < min_count:\n",
    "            del words_count[word]\n",
    "\n",
    "    index = 1\n",
    "    for word in list(words_count.keys()):\n",
    "        words_count[word] = index\n",
    "        index = index + 1\n",
    "\n",
    "    return words_count\n",
    "\n",
    "\n",
    "def transform_text(messages, word_dictionary, tokenizer = None):\n",
    "    words_arr = np.zeros((len(messages), len(word_dictionary)))\n",
    "    for i in range(words_arr.shape[0]):\n",
    "        message_words = get_words(messages[i], tokenizer)\n",
    "        message_indices = map(word_dictionary.get, message_words)\n",
    "        for j in message_indices:\n",
    "            if j is not None:\n",
    "                words_arr[i, j-1] += 1\n",
    "    return words_arr"
   ],
   "outputs": [],
   "metadata": {}
  },
  {
   "cell_type": "markdown",
   "source": [
    "Split into train and test set"
   ],
   "metadata": {}
  },
  {
   "cell_type": "code",
   "execution_count": 14,
   "source": [
    "train_dataset, test_dataset = train_test_split(data_to_use, test_size=0.3, random_state = 0)\n",
    "\n",
    "train_data = train_dataset.reset_index(drop=True)\n",
    "test_data = test_dataset.reset_index(drop=True)\n",
    "\n",
    "print(train_data.shape)\n",
    "print(test_data.shape)\n",
    "\n",
    "train_data.to_csv('../data/train2.csv', index = False)\n",
    "test_data.to_csv('../data/test2.csv', index = False)"
   ],
   "outputs": [
    {
     "output_type": "stream",
     "name": "stdout",
     "text": [
      "(3928, 9)\n",
      "(1684, 9)\n"
     ]
    }
   ],
   "metadata": {}
  },
  {
   "cell_type": "markdown",
   "source": [
    "Now we can take this data and do binarization and then we will apply regression algorithms"
   ],
   "metadata": {}
  },
  {
   "cell_type": "code",
   "execution_count": 15,
   "source": [
    "train_data = pd.read_csv('../data/train2.csv')\n",
    "test_data = pd.read_csv('../data/test2.csv')\n",
    "\n",
    "genre_dictionary = create_dictionary(train_data['Genre'].astype(str).values, min_count=5)\n",
    "train_genre_matrix = transform_text(train_data['Genre'].astype(str).values, genre_dictionary)\n",
    "test_genre_matrix = transform_text(test_data['Genre'].astype(str).values, genre_dictionary)\n",
    "\n",
    "director_dictionary = create_dictionary(train_data['director'].astype(str).values, min_count=5)\n",
    "train_director_matrix = transform_text(train_data['director'].astype(str).values, director_dictionary)\n",
    "test_director_matrix = transform_text(test_data['director'].astype(str).values, director_dictionary)\n",
    "\n",
    "actors_dictionary = create_dictionary(train_data['actors'].astype(str).values, min_count = 5)\n",
    "train_actors_matrix = transform_text(train_data['actors'].astype(str).values, actors_dictionary)\n",
    "test_actors_matrix = transform_text(test_data['actors'].astype(str).values, actors_dictionary)\n",
    "\n",
    "companies_dictionary = create_dictionary(train_data['companies'].astype(str).values, min_count=5)\n",
    "train_companies_matrix = transform_text(train_data['companies'].astype(str).values, companies_dictionary)\n",
    "test_companies_matrix = transform_text(test_data['companies'].astype(str).values, companies_dictionary)"
   ],
   "outputs": [],
   "metadata": {
    "tags": []
   }
  },
  {
   "cell_type": "code",
   "execution_count": 16,
   "source": [
    "def get_words_nltk(message, tokenizer = None):\n",
    "    sentence = nltk.tokenize.sent_tokenize(message)\n",
    "    tokens = nltk.tokenize.word_tokenize(sentence[0])\n",
    "    tokens_without_punctuation = [token for token in tokens if token not in string.punctuation]\n",
    "    stopwords_list = stopwords.words('english')\n",
    "    tokens_without_stopwords = [token for token in tokens_without_punctuation if token not in stopwords_list]\n",
    "    return tokens_without_stopwords\n",
    "\n",
    "def create_dictionary_nltk(messages, min_count = 5, tokenizer = None):\n",
    "    words_count = {}\n",
    "    for s in messages:\n",
    "        words = get_words_nltk(s, tokenizer)\n",
    "        words_unique = list(dict.fromkeys(words))\n",
    "        for w in words_unique:\n",
    "            if w not in words_count:\n",
    "                words_count[w] = 1\n",
    "            else:\n",
    "                words_count[w] += 1\n",
    "\n",
    "    for word in list(words_count.keys()):\n",
    "        if words_count[word] < min_count:\n",
    "            del words_count[word]\n",
    "\n",
    "    index = 1\n",
    "    for word in list(words_count.keys()):\n",
    "        words_count[word] = index\n",
    "        index = index + 1\n",
    "\n",
    "    return words_count\n",
    "\n",
    "def transform_text_nltk(messages, word_dictionary, tokenizer = None):\n",
    "    words_arr = np.zeros((len(messages), len(word_dictionary)))\n",
    "    for i in range(words_arr.shape[0]):\n",
    "        message_words = get_words_nltk(messages[i], tokenizer)\n",
    "        message_indices = map(word_dictionary.get, message_words)\n",
    "        for j in message_indices:\n",
    "            if j is not None:\n",
    "                words_arr[i, j-1] += 1\n",
    "    return words_arr"
   ],
   "outputs": [],
   "metadata": {}
  },
  {
   "cell_type": "code",
   "execution_count": 18,
   "source": [
    "overview_dictionary2 = create_dictionary_nltk(train_data['overview'], min_count = 20)\n",
    "# print(overview_dictionary2)\n",
    "train_overview_matrix2 = transform_text_nltk(train_data['overview'].astype(str).values, overview_dictionary2)\n",
    "test_overview_matrix2 = transform_text_nltk(test_data['overview'].astype(str).values, overview_dictionary2)"
   ],
   "outputs": [],
   "metadata": {}
  },
  {
   "cell_type": "code",
   "execution_count": 19,
   "source": [
    "print(train_overview_matrix2.shape)"
   ],
   "outputs": [
    {
     "output_type": "stream",
     "name": "stdout",
     "text": [
      "(3928, 429)\n"
     ]
    }
   ],
   "metadata": {}
  },
  {
   "cell_type": "code",
   "execution_count": 20,
   "source": [
    "train_data = pd.concat([train_data, pd.DataFrame(train_genre_matrix, columns = genre_dictionary.keys()), \n",
    "                                    pd.DataFrame(train_director_matrix, columns = director_dictionary.keys()), \n",
    "                                    pd.DataFrame(train_actors_matrix, columns = actors_dictionary.keys()),\n",
    "                                    pd.DataFrame(train_companies_matrix, columns = companies_dictionary.keys()),\n",
    "                                    pd.DataFrame(train_overview_matrix2, columns = overview_dictionary2.keys())], axis=1)\n",
    "\n",
    "train_data.to_csv('../data/train_final2.csv', index = False)"
   ],
   "outputs": [],
   "metadata": {}
  },
  {
   "cell_type": "code",
   "execution_count": 21,
   "source": [
    "train_data.shape"
   ],
   "outputs": [
    {
     "output_type": "execute_result",
     "data": {
      "text/plain": [
       "(3928, 1959)"
      ]
     },
     "metadata": {},
     "execution_count": 21
    }
   ],
   "metadata": {}
  },
  {
   "cell_type": "code",
   "execution_count": 22,
   "source": [
    "test_data = pd.concat([test_data,   pd.DataFrame(test_genre_matrix, columns = genre_dictionary.keys()), \n",
    "                                    pd.DataFrame(test_director_matrix, columns = director_dictionary.keys()), \n",
    "                                    pd.DataFrame(test_actors_matrix, columns = actors_dictionary.keys()),\n",
    "                                    pd.DataFrame(test_companies_matrix, columns = companies_dictionary.keys()),\n",
    "                                    pd.DataFrame(test_overview_matrix2, columns = overview_dictionary2.keys())], axis=1)\n",
    "\n",
    "test_data.to_csv('../data/test_final2.csv', index = False)\n",
    "# test_data.head()"
   ],
   "outputs": [],
   "metadata": {}
  },
  {
   "cell_type": "code",
   "execution_count": 23,
   "source": [
    "test_data.shape"
   ],
   "outputs": [
    {
     "output_type": "execute_result",
     "data": {
      "text/plain": [
       "(1684, 1959)"
      ]
     },
     "metadata": {},
     "execution_count": 23
    }
   ],
   "metadata": {}
  },
  {
   "cell_type": "markdown",
   "source": [
    "Print columns to file"
   ],
   "metadata": {}
  },
  {
   "cell_type": "code",
   "execution_count": 24,
   "source": [
    "import sys\n",
    "\n",
    "orig_stdout = sys.stdout\n",
    "f = open('columns2.txt', 'w')\n",
    "sys.stdout = f\n",
    "\n",
    "for col in train_data.columns:\n",
    "    print(col)\n",
    "\n",
    "sys.stdout = orig_stdout\n",
    "f.close()\n"
   ],
   "outputs": [],
   "metadata": {}
  }
 ]
}